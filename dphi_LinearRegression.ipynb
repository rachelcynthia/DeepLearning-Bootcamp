{
  "nbformat": 4,
  "nbformat_minor": 0,
  "metadata": {
    "colab": {
      "name": "dphi_LinearRegression.ipynb",
      "provenance": [],
      "authorship_tag": "ABX9TyPkJ4wYFVmkDWOxmNHg3pmw",
      "include_colab_link": true
    },
    "kernelspec": {
      "name": "python3",
      "display_name": "Python 3"
    }
  },
  "cells": [
    {
      "cell_type": "markdown",
      "metadata": {
        "id": "view-in-github",
        "colab_type": "text"
      },
      "source": [
        "<a href=\"https://colab.research.google.com/github/rachelcynthia/DeepLearning-Bootcamp/blob/master/dphi_LinearRegression.ipynb\" target=\"_parent\"><img src=\"https://colab.research.google.com/assets/colab-badge.svg\" alt=\"Open In Colab\"/></a>"
      ]
    },
    {
      "cell_type": "markdown",
      "metadata": {
        "id": "c5JoSUHtni50",
        "colab_type": "text"
      },
      "source": [
        "# Linear Regression on Bostion Housing dataset using Deep Learning"
      ]
    },
    {
      "cell_type": "code",
      "metadata": {
        "id": "CEHoYVXSntLg",
        "colab_type": "code",
        "colab": {}
      },
      "source": [
        "import numpy as np\n",
        "import pandas as pd\n",
        "import matplotlib.pyplot as plt"
      ],
      "execution_count": 2,
      "outputs": []
    },
    {
      "cell_type": "markdown",
      "metadata": {
        "id": "thILGxG_oFRn",
        "colab_type": "text"
      },
      "source": [
        "Load the Data"
      ]
    },
    {
      "cell_type": "code",
      "metadata": {
        "id": "4HYBeenIn9AT",
        "colab_type": "code",
        "colab": {}
      },
      "source": [
        "data = pd.read_csv(\"https://raw.githubusercontent.com/dphi-official/Datasets/master/Boston_Housing/Training_set_boston.csv\")"
      ],
      "execution_count": 3,
      "outputs": []
    },
    {
      "cell_type": "markdown",
      "metadata": {
        "id": "225ry5RUoJmH",
        "colab_type": "text"
      },
      "source": [
        "View the Data"
      ]
    },
    {
      "cell_type": "code",
      "metadata": {
        "id": "_pAYm5FeoLON",
        "colab_type": "code",
        "colab": {
          "base_uri": "https://localhost:8080/",
          "height": 202
        },
        "outputId": "6ce8f678-9967-42bc-868e-3c3d1124a096"
      },
      "source": [
        "data.head()"
      ],
      "execution_count": 4,
      "outputs": [
        {
          "output_type": "execute_result",
          "data": {
            "text/html": [
              "<div>\n",
              "<style scoped>\n",
              "    .dataframe tbody tr th:only-of-type {\n",
              "        vertical-align: middle;\n",
              "    }\n",
              "\n",
              "    .dataframe tbody tr th {\n",
              "        vertical-align: top;\n",
              "    }\n",
              "\n",
              "    .dataframe thead th {\n",
              "        text-align: right;\n",
              "    }\n",
              "</style>\n",
              "<table border=\"1\" class=\"dataframe\">\n",
              "  <thead>\n",
              "    <tr style=\"text-align: right;\">\n",
              "      <th></th>\n",
              "      <th>CRIM</th>\n",
              "      <th>ZN</th>\n",
              "      <th>INDUS</th>\n",
              "      <th>CHAS</th>\n",
              "      <th>NOX</th>\n",
              "      <th>RM</th>\n",
              "      <th>AGE</th>\n",
              "      <th>DIS</th>\n",
              "      <th>RAD</th>\n",
              "      <th>TAX</th>\n",
              "      <th>PTRATIO</th>\n",
              "      <th>B</th>\n",
              "      <th>LSTAT</th>\n",
              "      <th>MEDV</th>\n",
              "    </tr>\n",
              "  </thead>\n",
              "  <tbody>\n",
              "    <tr>\n",
              "      <th>0</th>\n",
              "      <td>15.02340</td>\n",
              "      <td>0.0</td>\n",
              "      <td>18.10</td>\n",
              "      <td>0.0</td>\n",
              "      <td>0.6140</td>\n",
              "      <td>5.304</td>\n",
              "      <td>97.3</td>\n",
              "      <td>2.1007</td>\n",
              "      <td>24.0</td>\n",
              "      <td>666.0</td>\n",
              "      <td>20.2</td>\n",
              "      <td>349.48</td>\n",
              "      <td>24.91</td>\n",
              "      <td>12.0</td>\n",
              "    </tr>\n",
              "    <tr>\n",
              "      <th>1</th>\n",
              "      <td>0.62739</td>\n",
              "      <td>0.0</td>\n",
              "      <td>8.14</td>\n",
              "      <td>0.0</td>\n",
              "      <td>0.5380</td>\n",
              "      <td>5.834</td>\n",
              "      <td>56.5</td>\n",
              "      <td>4.4986</td>\n",
              "      <td>4.0</td>\n",
              "      <td>307.0</td>\n",
              "      <td>21.0</td>\n",
              "      <td>395.62</td>\n",
              "      <td>8.47</td>\n",
              "      <td>19.9</td>\n",
              "    </tr>\n",
              "    <tr>\n",
              "      <th>2</th>\n",
              "      <td>0.03466</td>\n",
              "      <td>35.0</td>\n",
              "      <td>6.06</td>\n",
              "      <td>0.0</td>\n",
              "      <td>0.4379</td>\n",
              "      <td>6.031</td>\n",
              "      <td>23.3</td>\n",
              "      <td>6.6407</td>\n",
              "      <td>1.0</td>\n",
              "      <td>304.0</td>\n",
              "      <td>16.9</td>\n",
              "      <td>362.25</td>\n",
              "      <td>7.83</td>\n",
              "      <td>19.4</td>\n",
              "    </tr>\n",
              "    <tr>\n",
              "      <th>3</th>\n",
              "      <td>7.05042</td>\n",
              "      <td>0.0</td>\n",
              "      <td>18.10</td>\n",
              "      <td>0.0</td>\n",
              "      <td>0.6140</td>\n",
              "      <td>6.103</td>\n",
              "      <td>85.1</td>\n",
              "      <td>2.0218</td>\n",
              "      <td>24.0</td>\n",
              "      <td>666.0</td>\n",
              "      <td>20.2</td>\n",
              "      <td>2.52</td>\n",
              "      <td>23.29</td>\n",
              "      <td>13.4</td>\n",
              "    </tr>\n",
              "    <tr>\n",
              "      <th>4</th>\n",
              "      <td>0.72580</td>\n",
              "      <td>0.0</td>\n",
              "      <td>8.14</td>\n",
              "      <td>0.0</td>\n",
              "      <td>0.5380</td>\n",
              "      <td>5.727</td>\n",
              "      <td>69.5</td>\n",
              "      <td>3.7965</td>\n",
              "      <td>4.0</td>\n",
              "      <td>307.0</td>\n",
              "      <td>21.0</td>\n",
              "      <td>390.95</td>\n",
              "      <td>11.28</td>\n",
              "      <td>18.2</td>\n",
              "    </tr>\n",
              "  </tbody>\n",
              "</table>\n",
              "</div>"
            ],
            "text/plain": [
              "       CRIM    ZN  INDUS  CHAS     NOX  ...    TAX  PTRATIO       B  LSTAT  MEDV\n",
              "0  15.02340   0.0  18.10   0.0  0.6140  ...  666.0     20.2  349.48  24.91  12.0\n",
              "1   0.62739   0.0   8.14   0.0  0.5380  ...  307.0     21.0  395.62   8.47  19.9\n",
              "2   0.03466  35.0   6.06   0.0  0.4379  ...  304.0     16.9  362.25   7.83  19.4\n",
              "3   7.05042   0.0  18.10   0.0  0.6140  ...  666.0     20.2    2.52  23.29  13.4\n",
              "4   0.72580   0.0   8.14   0.0  0.5380  ...  307.0     21.0  390.95  11.28  18.2\n",
              "\n",
              "[5 rows x 14 columns]"
            ]
          },
          "metadata": {
            "tags": []
          },
          "execution_count": 4
        }
      ]
    },
    {
      "cell_type": "markdown",
      "metadata": {
        "id": "50cZ6oI4oTUC",
        "colab_type": "text"
      },
      "source": [
        "Separation of input and output "
      ]
    },
    {
      "cell_type": "code",
      "metadata": {
        "id": "MQSvu93ZoY6K",
        "colab_type": "code",
        "colab": {}
      },
      "source": [
        "x = data.drop('MEDV',axis=1)\n",
        "y = data.MEDV"
      ],
      "execution_count": 5,
      "outputs": []
    },
    {
      "cell_type": "markdown",
      "metadata": {
        "id": "RtbRu9bhokmP",
        "colab_type": "text"
      },
      "source": [
        "Splitting into test and training set"
      ]
    },
    {
      "cell_type": "code",
      "metadata": {
        "id": "YyKwxY-KonbO",
        "colab_type": "code",
        "colab": {}
      },
      "source": [
        "from sklearn.model_selection import train_test_split\n",
        "x_train, x_test, y_train, y_test = train_test_split(x,y,test_size=0.2,random_state=42)"
      ],
      "execution_count": 41,
      "outputs": []
    },
    {
      "cell_type": "markdown",
      "metadata": {
        "id": "pAl77IRfo73O",
        "colab_type": "text"
      },
      "source": [
        "Find number of input features"
      ]
    },
    {
      "cell_type": "code",
      "metadata": {
        "id": "3uHz-qKOo7em",
        "colab_type": "code",
        "colab": {
          "base_uri": "https://localhost:8080/",
          "height": 35
        },
        "outputId": "18c1d213-1831-4a75-97da-d07a5431e48d"
      },
      "source": [
        "n_features =x.shape[1]\n",
        "n_features"
      ],
      "execution_count": 42,
      "outputs": [
        {
          "output_type": "execute_result",
          "data": {
            "text/plain": [
              "13"
            ]
          },
          "metadata": {
            "tags": []
          },
          "execution_count": 42
        }
      ]
    },
    {
      "cell_type": "markdown",
      "metadata": {
        "id": "9DhCi7QgpIzO",
        "colab_type": "text"
      },
      "source": [
        "Training our model "
      ]
    },
    {
      "cell_type": "markdown",
      "metadata": {
        "id": "JZ1HxhwEpbGV",
        "colab_type": "text"
      },
      "source": [
        "Import necessary libraries"
      ]
    },
    {
      "cell_type": "code",
      "metadata": {
        "id": "_SQ98HWTpZ1L",
        "colab_type": "code",
        "colab": {}
      },
      "source": [
        "from tensorflow.keras import Sequential\n",
        "from tensorflow.keras.layers import Dense\n",
        "from numpy.random import seed\n",
        "import tensorflow"
      ],
      "execution_count": 43,
      "outputs": []
    },
    {
      "cell_type": "markdown",
      "metadata": {
        "id": "J6lIMlY0psPP",
        "colab_type": "text"
      },
      "source": [
        "Define the model"
      ]
    },
    {
      "cell_type": "code",
      "metadata": {
        "id": "FjUTC50spK5e",
        "colab_type": "code",
        "colab": {}
      },
      "source": [
        "model = Sequential()\n",
        "model.add(Dense(10,activation='relu',input_shape=(n_features,)))\n",
        "model.add(Dense(8,activation='relu'))\n",
        "model.add(Dense(1))"
      ],
      "execution_count": 44,
      "outputs": []
    },
    {
      "cell_type": "code",
      "metadata": {
        "id": "F7MXGEzSqDFt",
        "colab_type": "code",
        "colab": {
          "base_uri": "https://localhost:8080/",
          "height": 260
        },
        "outputId": "e2a603ae-1208-4f8e-90ce-c2c20f0e00d3"
      },
      "source": [
        "model.summary()"
      ],
      "execution_count": 45,
      "outputs": [
        {
          "output_type": "stream",
          "text": [
            "Model: \"sequential_1\"\n",
            "_________________________________________________________________\n",
            "Layer (type)                 Output Shape              Param #   \n",
            "=================================================================\n",
            "dense_3 (Dense)              (None, 10)                140       \n",
            "_________________________________________________________________\n",
            "dense_4 (Dense)              (None, 8)                 88        \n",
            "_________________________________________________________________\n",
            "dense_5 (Dense)              (None, 1)                 9         \n",
            "=================================================================\n",
            "Total params: 237\n",
            "Trainable params: 237\n",
            "Non-trainable params: 0\n",
            "_________________________________________________________________\n"
          ],
          "name": "stdout"
        }
      ]
    },
    {
      "cell_type": "markdown",
      "metadata": {
        "id": "UATWewgsqHX9",
        "colab_type": "text"
      },
      "source": [
        "Compile the model"
      ]
    },
    {
      "cell_type": "code",
      "metadata": {
        "id": "O-zfYtCmqKsl",
        "colab_type": "code",
        "colab": {}
      },
      "source": [
        "from tensorflow.keras.optimizers import RMSprop\n",
        "optimizer = RMSprop(0.01)"
      ],
      "execution_count": 46,
      "outputs": []
    },
    {
      "cell_type": "code",
      "metadata": {
        "id": "9i6giKMHrNOT",
        "colab_type": "code",
        "colab": {}
      },
      "source": [
        "model.compile(loss='mean_squared_error',optimizer=optimizer)"
      ],
      "execution_count": 47,
      "outputs": []
    },
    {
      "cell_type": "markdown",
      "metadata": {
        "id": "BwEMAdD5rerq",
        "colab_type": "text"
      },
      "source": [
        "Fitting the model"
      ]
    },
    {
      "cell_type": "code",
      "metadata": {
        "id": "1o-uSgsfrg-N",
        "colab_type": "code",
        "colab": {}
      },
      "source": [
        "import random\n",
        "seed_value = random.randint(12,200)"
      ],
      "execution_count": 48,
      "outputs": []
    },
    {
      "cell_type": "code",
      "metadata": {
        "id": "139OP1A3sCu5",
        "colab_type": "code",
        "colab": {}
      },
      "source": [
        "import os\n",
        "os.environ['PYTHONHASHSEED']=str(seed_value)"
      ],
      "execution_count": 49,
      "outputs": []
    },
    {
      "cell_type": "code",
      "metadata": {
        "id": "Hh4rf-VmsLAF",
        "colab_type": "code",
        "colab": {}
      },
      "source": [
        "import numpy as np\n",
        "np.random.seed(seed_value)"
      ],
      "execution_count": 50,
      "outputs": []
    },
    {
      "cell_type": "code",
      "metadata": {
        "id": "4dYtFx0nsTi3",
        "colab_type": "code",
        "colab": {}
      },
      "source": [
        "tensorflow.random.set_seed(seed_value)"
      ],
      "execution_count": 51,
      "outputs": []
    },
    {
      "cell_type": "markdown",
      "metadata": {
        "id": "Zp4qAzIVsjRd",
        "colab_type": "text"
      },
      "source": [
        "Train the model"
      ]
    },
    {
      "cell_type": "code",
      "metadata": {
        "id": "K_wXK4mTsi7T",
        "colab_type": "code",
        "colab": {
          "base_uri": "https://localhost:8080/",
          "height": 381
        },
        "outputId": "c761ad8a-5165-4820-9fce-bfbb96eca85b"
      },
      "source": [
        "model.fit(x_train,y_train,epochs=10,batch_size=30,verbose=1)"
      ],
      "execution_count": 52,
      "outputs": [
        {
          "output_type": "stream",
          "text": [
            "Epoch 1/10\n",
            "11/11 [==============================] - 0s 1ms/step - loss: 7467.7012\n",
            "Epoch 2/10\n",
            "11/11 [==============================] - 0s 1ms/step - loss: 131.9737\n",
            "Epoch 3/10\n",
            "11/11 [==============================] - 0s 1ms/step - loss: 180.1714\n",
            "Epoch 4/10\n",
            "11/11 [==============================] - 0s 1ms/step - loss: 111.2336\n",
            "Epoch 5/10\n",
            "11/11 [==============================] - 0s 1ms/step - loss: 315.3596\n",
            "Epoch 6/10\n",
            "11/11 [==============================] - 0s 1ms/step - loss: 142.0682\n",
            "Epoch 7/10\n",
            "11/11 [==============================] - 0s 1ms/step - loss: 254.8340\n",
            "Epoch 8/10\n",
            "11/11 [==============================] - 0s 1ms/step - loss: 193.8430\n",
            "Epoch 9/10\n",
            "11/11 [==============================] - 0s 1ms/step - loss: 176.2647\n",
            "Epoch 10/10\n",
            "11/11 [==============================] - 0s 1ms/step - loss: 174.3174\n"
          ],
          "name": "stdout"
        },
        {
          "output_type": "execute_result",
          "data": {
            "text/plain": [
              "<tensorflow.python.keras.callbacks.History at 0x7fdda6e639b0>"
            ]
          },
          "metadata": {
            "tags": []
          },
          "execution_count": 52
        }
      ]
    },
    {
      "cell_type": "markdown",
      "metadata": {
        "id": "m73cSTcqsz3R",
        "colab_type": "text"
      },
      "source": [
        "Evaluate the model using test set"
      ]
    },
    {
      "cell_type": "code",
      "metadata": {
        "id": "IJ9aVPeDs308",
        "colab_type": "code",
        "colab": {
          "base_uri": "https://localhost:8080/",
          "height": 52
        },
        "outputId": "d61d0262-019f-46ba-a09f-f29f4d58bdb2"
      },
      "source": [
        "model.evaluate(x_test,y_test)"
      ],
      "execution_count": 53,
      "outputs": [
        {
          "output_type": "stream",
          "text": [
            "3/3 [==============================] - 0s 2ms/step - loss: 92.9679\n"
          ],
          "name": "stdout"
        },
        {
          "output_type": "execute_result",
          "data": {
            "text/plain": [
              "92.96791076660156"
            ]
          },
          "metadata": {
            "tags": []
          },
          "execution_count": 53
        }
      ]
    },
    {
      "cell_type": "markdown",
      "metadata": {
        "id": "7WREqetKthyj",
        "colab_type": "text"
      },
      "source": [
        "Function for Plotting the model"
      ]
    },
    {
      "cell_type": "code",
      "metadata": {
        "id": "bPOUoVzJtkrf",
        "colab_type": "code",
        "colab": {}
      },
      "source": [
        "def plot_the_loss_curve(epochs,rmse):\n",
        "  plt.figure()\n",
        "  plt.xlabel(\"Epoch\")\n",
        "  plt.ylabel(\"Root Mean Squared Error\")\n",
        "  plt.plot(epochs,rmse,label=\"loss\")\n",
        "  plt.legend()\n",
        "  plt.show()"
      ],
      "execution_count": 54,
      "outputs": []
    },
    {
      "cell_type": "markdown",
      "metadata": {
        "id": "KTft9N0Xt44Q",
        "colab_type": "text"
      },
      "source": [
        "**Hyperparameter Tunning**"
      ]
    },
    {
      "cell_type": "markdown",
      "metadata": {
        "id": "7Viwm0qSuH_Z",
        "colab_type": "text"
      },
      "source": [
        "**1. Learning Rate - train with learning rate =0.1**"
      ]
    },
    {
      "cell_type": "code",
      "metadata": {
        "id": "YFCm4DcnuAf8",
        "colab_type": "code",
        "colab": {}
      },
      "source": [
        "optimizer=RMSprop(0.1)\n",
        "model.compile(loss='mean_squared_error',optimizer=optimizer)"
      ],
      "execution_count": 58,
      "outputs": []
    },
    {
      "cell_type": "markdown",
      "metadata": {
        "id": "daSNrS54uijp",
        "colab_type": "text"
      },
      "source": [
        "fit and evaluate the model"
      ]
    },
    {
      "cell_type": "code",
      "metadata": {
        "id": "SSC-HAn8uk1n",
        "colab_type": "code",
        "colab": {
          "base_uri": "https://localhost:8080/",
          "height": 436
        },
        "outputId": "cbd9f184-e62a-44ca-f184-f79f7182fcb2"
      },
      "source": [
        "history = model.fit(x_train,y_train,epochs=10,batch_size=30,verbose=1)\n",
        "model.evaluate(x_test,y_test)"
      ],
      "execution_count": 59,
      "outputs": [
        {
          "output_type": "stream",
          "text": [
            "Epoch 1/10\n",
            "11/11 [==============================] - 0s 1ms/step - loss: 134066.7500\n",
            "Epoch 2/10\n",
            "11/11 [==============================] - 0s 1ms/step - loss: 1128.2797\n",
            "Epoch 3/10\n",
            "11/11 [==============================] - 0s 1ms/step - loss: 440.5921\n",
            "Epoch 4/10\n",
            "11/11 [==============================] - 0s 1ms/step - loss: 258.5807\n",
            "Epoch 5/10\n",
            "11/11 [==============================] - 0s 1ms/step - loss: 208.8600\n",
            "Epoch 6/10\n",
            "11/11 [==============================] - 0s 1ms/step - loss: 172.4944\n",
            "Epoch 7/10\n",
            "11/11 [==============================] - 0s 1ms/step - loss: 136.9435\n",
            "Epoch 8/10\n",
            "11/11 [==============================] - 0s 1ms/step - loss: 95.6370\n",
            "Epoch 9/10\n",
            "11/11 [==============================] - 0s 1ms/step - loss: 184.4663\n",
            "Epoch 10/10\n",
            "11/11 [==============================] - 0s 1ms/step - loss: 227.6133\n",
            "WARNING:tensorflow:5 out of the last 13 calls to <function Model.make_test_function.<locals>.test_function at 0x7fdda6aaa950> triggered tf.function retracing. Tracing is expensive and the excessive number of tracings could be due to (1) creating @tf.function repeatedly in a loop, (2) passing tensors with different shapes, (3) passing Python objects instead of tensors. For (1), please define your @tf.function outside of the loop. For (2), @tf.function has experimental_relax_shapes=True option that relaxes argument shapes that can avoid unnecessary retracing. For (3), please refer to https://www.tensorflow.org/tutorials/customization/performance#python_or_tensor_args and https://www.tensorflow.org/api_docs/python/tf/function for  more details.\n",
            "3/3 [==============================] - 0s 3ms/step - loss: 64.5916\n"
          ],
          "name": "stdout"
        },
        {
          "output_type": "execute_result",
          "data": {
            "text/plain": [
              "64.59159088134766"
            ]
          },
          "metadata": {
            "tags": []
          },
          "execution_count": 59
        }
      ]
    },
    {
      "cell_type": "markdown",
      "metadata": {
        "id": "_HkeYoTUu5mc",
        "colab_type": "text"
      },
      "source": [
        "This is worse than what we got before."
      ]
    },
    {
      "cell_type": "code",
      "metadata": {
        "id": "8rqOmabduAo2",
        "colab_type": "code",
        "colab": {
          "base_uri": "https://localhost:8080/",
          "height": 282
        },
        "outputId": "05cfb379-310a-4d3b-fbdb-4106734b42a0"
      },
      "source": [
        "plot_the_loss_curve(history.epoch,history.history['loss'])"
      ],
      "execution_count": 60,
      "outputs": [
        {
          "output_type": "display_data",
          "data": {
            "image/png": "[encoded data removed]",
            "text/plain": [
              "<Figure size 432x288 with 1 Axes>"
            ]
          },
          "metadata": {
            "tags": [],
            "needs_background": "light"
          }
        }
      ]
    },
    {
      "cell_type": "markdown",
      "metadata": {
        "id": "760jyC7AwWWe",
        "colab_type": "text"
      },
      "source": [
        "Check for learning rate =0.0001"
      ]
    },
    {
      "cell_type": "code",
      "metadata": {
        "id": "0ERGq9VSwcz_",
        "colab_type": "code",
        "colab": {
          "base_uri": "https://localhost:8080/",
          "height": 681
        },
        "outputId": "ef167ef7-6093-4191-eb39-bc12185f2ffd"
      },
      "source": [
        "optimizer=RMSprop(0.0001)\n",
        "model.compile(loss='mean_squared_error',optimizer=optimizer)\n",
        "history = model.fit(x_train,y_train,epochs=10,batch_size=30,verbose=1)\n",
        "model.evaluate(x_test,y_test)\n",
        "plot_the_loss_curve(history.epoch,history.history['loss'])"
      ],
      "execution_count": 66,
      "outputs": [
        {
          "output_type": "stream",
          "text": [
            "Epoch 1/10\n",
            "11/11 [==============================] - 0s 1ms/step - loss: 45.2180\n",
            "Epoch 2/10\n",
            "11/11 [==============================] - 0s 1ms/step - loss: 45.0793\n",
            "Epoch 3/10\n",
            "11/11 [==============================] - 0s 2ms/step - loss: 45.0753\n",
            "Epoch 4/10\n",
            "11/11 [==============================] - 0s 1ms/step - loss: 45.0168\n",
            "Epoch 5/10\n",
            "11/11 [==============================] - 0s 1ms/step - loss: 44.9975\n",
            "Epoch 6/10\n",
            "11/11 [==============================] - 0s 1ms/step - loss: 44.9417\n",
            "Epoch 7/10\n",
            "11/11 [==============================] - 0s 1ms/step - loss: 44.9598\n",
            "Epoch 8/10\n",
            "11/11 [==============================] - 0s 1ms/step - loss: 44.8782\n",
            "Epoch 9/10\n",
            "11/11 [==============================] - 0s 1ms/step - loss: 44.8576\n",
            "Epoch 10/10\n",
            "11/11 [==============================] - 0s 1ms/step - loss: 44.8238\n",
            "WARNING:tensorflow:5 out of the last 13 calls to <function Model.make_test_function.<locals>.test_function at 0x7fdda2b9ca60> triggered tf.function retracing. Tracing is expensive and the excessive number of tracings could be due to (1) creating @tf.function repeatedly in a loop, (2) passing tensors with different shapes, (3) passing Python objects instead of tensors. For (1), please define your @tf.function outside of the loop. For (2), @tf.function has experimental_relax_shapes=True option that relaxes argument shapes that can avoid unnecessary retracing. For (3), please refer to https://www.tensorflow.org/tutorials/customization/performance#python_or_tensor_args and https://www.tensorflow.org/api_docs/python/tf/function for  more details.\n",
            "3/3 [==============================] - 0s 2ms/step - loss: 30.4611\n"
          ],
          "name": "stdout"
        },
        {
          "output_type": "display_data",
          "data": {
            "image/png": "[encoded data removed]",
            "text/plain": [
              "<Figure size 432x288 with 1 Axes>"
            ]
          },
          "metadata": {
            "tags": [],
            "needs_background": "light"
          }
        }
      ]
    },
    {
      "cell_type": "markdown",
      "metadata": {
        "id": "W6wpAAFNwqsN",
        "colab_type": "text"
      },
      "source": [
        "This has a better learning curve and gradual decrease"
      ]
    },
    {
      "cell_type": "markdown",
      "metadata": {
        "id": "m8B2depbw2E6",
        "colab_type": "text"
      },
      "source": [
        "**2. EPOCHS**"
      ]
    },
    {
      "cell_type": "code",
      "metadata": {
        "id": "tNIfSZr8xNMd",
        "colab_type": "code",
        "colab": {
          "base_uri": "https://localhost:8080/",
          "height": 89
        },
        "outputId": "946ba103-8b06-409f-a0b1-459a49931611"
      },
      "source": [
        "learning_rate=0.01\n",
        "epochs=10\n",
        "optimizer=RMSprop(learning_rate)\n",
        "model.compile(loss=\"mean_squared_error\",optimizer=optimizer)\n",
        "history=model.fit(x_train,y_train,epochs=epochs,batch_size=30,verbose=None)\n",
        "model.evaluate(x_test,y_test)"
      ],
      "execution_count": 74,
      "outputs": [
        {
          "output_type": "stream",
          "text": [
            "WARNING:tensorflow:5 out of the last 13 calls to <function Model.make_test_function.<locals>.test_function at 0x7fdd96ce6f28> triggered tf.function retracing. Tracing is expensive and the excessive number of tracings could be due to (1) creating @tf.function repeatedly in a loop, (2) passing tensors with different shapes, (3) passing Python objects instead of tensors. For (1), please define your @tf.function outside of the loop. For (2), @tf.function has experimental_relax_shapes=True option that relaxes argument shapes that can avoid unnecessary retracing. For (3), please refer to https://www.tensorflow.org/tutorials/customization/performance#python_or_tensor_args and https://www.tensorflow.org/api_docs/python/tf/function for  more details.\n",
            "3/3 [==============================] - 0s 3ms/step - loss: 34.6567\n"
          ],
          "name": "stdout"
        },
        {
          "output_type": "execute_result",
          "data": {
            "text/plain": [
              "34.65667724609375"
            ]
          },
          "metadata": {
            "tags": []
          },
          "execution_count": 74
        }
      ]
    },
    {
      "cell_type": "code",
      "metadata": {
        "id": "JwX--2k2x4Fs",
        "colab_type": "code",
        "colab": {
          "base_uri": "https://localhost:8080/",
          "height": 279
        },
        "outputId": "6cdcd45c-af97-4004-d3ca-fab4742e90d2"
      },
      "source": [
        "plot_the_loss_curve(history.epoch,history.history['loss'])"
      ],
      "execution_count": 75,
      "outputs": [
        {
          "output_type": "display_data",
          "data": {
            "image/png": "[encoded data removed]",
            "text/plain": [
              "<Figure size 432x288 with 1 Axes>"
            ]
          },
          "metadata": {
            "tags": [],
            "needs_background": "light"
          }
        }
      ]
    },
    {
      "cell_type": "markdown",
      "metadata": {
        "id": "S_v3EeekyASS",
        "colab_type": "text"
      },
      "source": [
        "Now try for higher number of epochs"
      ]
    },
    {
      "cell_type": "code",
      "metadata": {
        "id": "mbK4PTp_yC-p",
        "colab_type": "code",
        "colab": {
          "base_uri": "https://localhost:8080/",
          "height": 1000
        },
        "outputId": "51224540-a0a8-4705-babb-6e854d8b43ea"
      },
      "source": [
        "learning_rate=0.01\n",
        "epochs=100\n",
        "optimizer=RMSprop(learning_rate)\n",
        "model.compile(loss=\"mean_squared_error\",optimizer=optimizer)\n",
        "history=model.fit(x_train,y_train,epochs=epochs,batch_size=30)\n",
        "model.evaluate(x_test,y_test)"
      ],
      "execution_count": 76,
      "outputs": [
        {
          "output_type": "stream",
          "text": [
            "Epoch 1/100\n",
            "11/11 [==============================] - 0s 1ms/step - loss: 52.3531\n",
            "Epoch 2/100\n",
            "11/11 [==============================] - 0s 1ms/step - loss: 25.4919\n",
            "Epoch 3/100\n",
            "11/11 [==============================] - 0s 1ms/step - loss: 36.7848\n",
            "Epoch 4/100\n",
            "11/11 [==============================] - 0s 1ms/step - loss: 25.0315\n",
            "Epoch 5/100\n",
            "11/11 [==============================] - 0s 1ms/step - loss: 26.1911\n",
            "Epoch 6/100\n",
            "11/11 [==============================] - 0s 1ms/step - loss: 34.3968\n",
            "Epoch 7/100\n",
            "11/11 [==============================] - 0s 1ms/step - loss: 34.9161\n",
            "Epoch 8/100\n",
            "11/11 [==============================] - 0s 1ms/step - loss: 26.5182\n",
            "Epoch 9/100\n",
            "11/11 [==============================] - 0s 2ms/step - loss: 32.8976\n",
            "Epoch 10/100\n",
            "11/11 [==============================] - 0s 1ms/step - loss: 23.7546\n",
            "Epoch 11/100\n",
            "11/11 [==============================] - 0s 990us/step - loss: 32.2333\n",
            "Epoch 12/100\n",
            "11/11 [==============================] - 0s 1ms/step - loss: 31.4001\n",
            "Epoch 13/100\n",
            "11/11 [==============================] - 0s 1ms/step - loss: 30.0765\n",
            "Epoch 14/100\n",
            "11/11 [==============================] - 0s 1ms/step - loss: 28.4663\n",
            "Epoch 15/100\n",
            "11/11 [==============================] - 0s 1ms/step - loss: 28.7016\n",
            "Epoch 16/100\n",
            "11/11 [==============================] - 0s 1ms/step - loss: 27.7251\n",
            "Epoch 17/100\n",
            "11/11 [==============================] - 0s 1ms/step - loss: 28.2791\n",
            "Epoch 18/100\n",
            "11/11 [==============================] - 0s 1ms/step - loss: 29.5289\n",
            "Epoch 19/100\n",
            "11/11 [==============================] - 0s 982us/step - loss: 29.0658\n",
            "Epoch 20/100\n",
            "11/11 [==============================] - 0s 1ms/step - loss: 23.2710\n",
            "Epoch 21/100\n",
            "11/11 [==============================] - 0s 1ms/step - loss: 36.7283\n",
            "Epoch 22/100\n",
            "11/11 [==============================] - 0s 1ms/step - loss: 22.7992\n",
            "Epoch 23/100\n",
            "11/11 [==============================] - 0s 1ms/step - loss: 32.8136\n",
            "Epoch 24/100\n",
            "11/11 [==============================] - 0s 1ms/step - loss: 25.2017\n",
            "Epoch 25/100\n",
            "11/11 [==============================] - 0s 1ms/step - loss: 29.9797\n",
            "Epoch 26/100\n",
            "11/11 [==============================] - 0s 1ms/step - loss: 30.3198\n",
            "Epoch 27/100\n",
            "11/11 [==============================] - 0s 1ms/step - loss: 28.7242\n",
            "Epoch 28/100\n",
            "11/11 [==============================] - 0s 1ms/step - loss: 29.2195\n",
            "Epoch 29/100\n",
            "11/11 [==============================] - 0s 1ms/step - loss: 27.8682\n",
            "Epoch 30/100\n",
            "11/11 [==============================] - 0s 1ms/step - loss: 28.2752\n",
            "Epoch 31/100\n",
            "11/11 [==============================] - 0s 1ms/step - loss: 30.2050\n",
            "Epoch 32/100\n",
            "11/11 [==============================] - 0s 1ms/step - loss: 26.0234\n",
            "Epoch 33/100\n",
            "11/11 [==============================] - 0s 2ms/step - loss: 24.1492\n",
            "Epoch 34/100\n",
            "11/11 [==============================] - 0s 1ms/step - loss: 26.0814\n",
            "Epoch 35/100\n",
            "11/11 [==============================] - 0s 1ms/step - loss: 27.5322\n",
            "Epoch 36/100\n",
            "11/11 [==============================] - 0s 1ms/step - loss: 25.5771\n",
            "Epoch 37/100\n",
            "11/11 [==============================] - 0s 1ms/step - loss: 22.6664\n",
            "Epoch 38/100\n",
            "11/11 [==============================] - 0s 1ms/step - loss: 30.5517\n",
            "Epoch 39/100\n",
            "11/11 [==============================] - 0s 1ms/step - loss: 31.6759\n",
            "Epoch 40/100\n",
            "11/11 [==============================] - 0s 1ms/step - loss: 25.2567\n",
            "Epoch 41/100\n",
            "11/11 [==============================] - 0s 1ms/step - loss: 29.8389\n",
            "Epoch 42/100\n",
            "11/11 [==============================] - 0s 1ms/step - loss: 23.2592\n",
            "Epoch 43/100\n",
            "11/11 [==============================] - 0s 1ms/step - loss: 25.9664\n",
            "Epoch 44/100\n",
            "11/11 [==============================] - 0s 1ms/step - loss: 27.0719\n",
            "Epoch 45/100\n",
            "11/11 [==============================] - 0s 1ms/step - loss: 22.9480\n",
            "Epoch 46/100\n",
            "11/11 [==============================] - 0s 1ms/step - loss: 34.4000\n",
            "Epoch 47/100\n",
            "11/11 [==============================] - 0s 1ms/step - loss: 24.8839\n",
            "Epoch 48/100\n",
            "11/11 [==============================] - 0s 1ms/step - loss: 25.4343\n",
            "Epoch 49/100\n",
            "11/11 [==============================] - 0s 1ms/step - loss: 27.2195\n",
            "Epoch 50/100\n",
            "11/11 [==============================] - 0s 1ms/step - loss: 25.0631\n",
            "Epoch 51/100\n",
            "11/11 [==============================] - 0s 1ms/step - loss: 29.3290\n",
            "Epoch 52/100\n",
            "11/11 [==============================] - 0s 1ms/step - loss: 23.7131\n",
            "Epoch 53/100\n",
            "11/11 [==============================] - 0s 1ms/step - loss: 30.0212\n",
            "Epoch 54/100\n",
            "11/11 [==============================] - 0s 1ms/step - loss: 24.7377\n",
            "Epoch 55/100\n",
            "11/11 [==============================] - 0s 1ms/step - loss: 26.0818\n",
            "Epoch 56/100\n",
            "11/11 [==============================] - 0s 1ms/step - loss: 24.5158\n",
            "Epoch 57/100\n",
            "11/11 [==============================] - 0s 1ms/step - loss: 24.3777\n",
            "Epoch 58/100\n",
            "11/11 [==============================] - 0s 1ms/step - loss: 27.1274\n",
            "Epoch 59/100\n",
            "11/11 [==============================] - 0s 1ms/step - loss: 26.5939\n",
            "Epoch 60/100\n",
            "11/11 [==============================] - 0s 1ms/step - loss: 28.9352\n",
            "Epoch 61/100\n",
            "11/11 [==============================] - 0s 1ms/step - loss: 27.2431\n",
            "Epoch 62/100\n",
            "11/11 [==============================] - 0s 1ms/step - loss: 24.2408\n",
            "Epoch 63/100\n",
            "11/11 [==============================] - 0s 1ms/step - loss: 26.4970\n",
            "Epoch 64/100\n",
            "11/11 [==============================] - 0s 1ms/step - loss: 30.2449\n",
            "Epoch 65/100\n",
            "11/11 [==============================] - 0s 1ms/step - loss: 28.0574\n",
            "Epoch 66/100\n",
            "11/11 [==============================] - 0s 1ms/step - loss: 20.8877\n",
            "Epoch 67/100\n",
            "11/11 [==============================] - 0s 1ms/step - loss: 25.2204\n",
            "Epoch 68/100\n",
            "11/11 [==============================] - 0s 1ms/step - loss: 21.4949\n",
            "Epoch 69/100\n",
            "11/11 [==============================] - 0s 1ms/step - loss: 29.5762\n",
            "Epoch 70/100\n",
            "11/11 [==============================] - 0s 1ms/step - loss: 25.3102\n",
            "Epoch 71/100\n",
            "11/11 [==============================] - 0s 1ms/step - loss: 24.8257\n",
            "Epoch 72/100\n",
            "11/11 [==============================] - 0s 1ms/step - loss: 23.1520\n",
            "Epoch 73/100\n",
            "11/11 [==============================] - 0s 1ms/step - loss: 25.1669\n",
            "Epoch 74/100\n",
            "11/11 [==============================] - 0s 1ms/step - loss: 23.6057\n",
            "Epoch 75/100\n",
            "11/11 [==============================] - 0s 1ms/step - loss: 22.1973\n",
            "Epoch 76/100\n",
            "11/11 [==============================] - 0s 1ms/step - loss: 21.0984\n",
            "Epoch 77/100\n",
            "11/11 [==============================] - 0s 2ms/step - loss: 28.9835\n",
            "Epoch 78/100\n",
            "11/11 [==============================] - 0s 1ms/step - loss: 18.5765\n",
            "Epoch 79/100\n",
            "11/11 [==============================] - 0s 1ms/step - loss: 25.7437\n",
            "Epoch 80/100\n",
            "11/11 [==============================] - 0s 1ms/step - loss: 21.2032\n",
            "Epoch 81/100\n",
            "11/11 [==============================] - 0s 1ms/step - loss: 22.2164\n",
            "Epoch 82/100\n",
            "11/11 [==============================] - 0s 1ms/step - loss: 22.9164\n",
            "Epoch 83/100\n",
            "11/11 [==============================] - 0s 1ms/step - loss: 19.0880\n",
            "Epoch 84/100\n",
            "11/11 [==============================] - 0s 1ms/step - loss: 29.0387\n",
            "Epoch 85/100\n",
            "11/11 [==============================] - 0s 1ms/step - loss: 22.1739\n",
            "Epoch 86/100\n",
            "11/11 [==============================] - 0s 1ms/step - loss: 24.9308\n",
            "Epoch 87/100\n",
            "11/11 [==============================] - 0s 1ms/step - loss: 32.3396\n",
            "Epoch 88/100\n",
            "11/11 [==============================] - 0s 1ms/step - loss: 20.1610\n",
            "Epoch 89/100\n",
            "11/11 [==============================] - 0s 987us/step - loss: 24.5232\n",
            "Epoch 90/100\n",
            "11/11 [==============================] - 0s 1ms/step - loss: 24.2263\n",
            "Epoch 91/100\n",
            "11/11 [==============================] - 0s 1ms/step - loss: 24.9998\n",
            "Epoch 92/100\n",
            "11/11 [==============================] - 0s 2ms/step - loss: 25.3997\n",
            "Epoch 93/100\n",
            "11/11 [==============================] - 0s 1ms/step - loss: 23.7031\n",
            "Epoch 94/100\n",
            "11/11 [==============================] - 0s 1ms/step - loss: 23.4669\n",
            "Epoch 95/100\n",
            "11/11 [==============================] - 0s 1ms/step - loss: 23.4740\n",
            "Epoch 96/100\n",
            "11/11 [==============================] - 0s 1ms/step - loss: 24.1465\n",
            "Epoch 97/100\n",
            "11/11 [==============================] - 0s 1ms/step - loss: 32.2546\n",
            "Epoch 98/100\n",
            "11/11 [==============================] - 0s 1ms/step - loss: 18.3785\n",
            "Epoch 99/100\n",
            "11/11 [==============================] - 0s 1ms/step - loss: 18.6012\n",
            "Epoch 100/100\n",
            "11/11 [==============================] - 0s 943us/step - loss: 26.8769\n",
            "WARNING:tensorflow:5 out of the last 13 calls to <function Model.make_test_function.<locals>.test_function at 0x7fdd95339d08> triggered tf.function retracing. Tracing is expensive and the excessive number of tracings could be due to (1) creating @tf.function repeatedly in a loop, (2) passing tensors with different shapes, (3) passing Python objects instead of tensors. For (1), please define your @tf.function outside of the loop. For (2), @tf.function has experimental_relax_shapes=True option that relaxes argument shapes that can avoid unnecessary retracing. For (3), please refer to https://www.tensorflow.org/tutorials/customization/performance#python_or_tensor_args and https://www.tensorflow.org/api_docs/python/tf/function for  more details.\n",
            "3/3 [==============================] - 0s 2ms/step - loss: 20.9011\n"
          ],
          "name": "stdout"
        },
        {
          "output_type": "execute_result",
          "data": {
            "text/plain": [
              "20.901098251342773"
            ]
          },
          "metadata": {
            "tags": []
          },
          "execution_count": 76
        }
      ]
    },
    {
      "cell_type": "code",
      "metadata": {
        "id": "HOxB4ll9yHs_",
        "colab_type": "code",
        "colab": {
          "base_uri": "https://localhost:8080/",
          "height": 279
        },
        "outputId": "a652c40f-0483-46a2-a0d3-dea9249ac03f"
      },
      "source": [
        "plot_the_loss_curve(history.epoch,history.history['loss'])"
      ],
      "execution_count": 77,
      "outputs": [
        {
          "output_type": "display_data",
          "data": {
            "image/png": "[encoded data removed]",
            "text/plain": [
              "<Figure size 432x288 with 1 Axes>"
            ]
          },
          "metadata": {
            "tags": [],
            "needs_background": "light"
          }
        }
      ]
    },
    {
      "cell_type": "markdown",
      "metadata": {
        "id": "zp67zC4Yyf1E",
        "colab_type": "text"
      },
      "source": [
        "**3.Batch Size**"
      ]
    },
    {
      "cell_type": "code",
      "metadata": {
        "id": "638KBbgpylj5",
        "colab_type": "code",
        "colab": {
          "base_uri": "https://localhost:8080/",
          "height": 89
        },
        "outputId": "86e9354f-f252-4563-c76a-84c21e333449"
      },
      "source": [
        "learning_rate=0.01\n",
        "epochs=10\n",
        "batch_size=5\n",
        "optimizer=RMSprop(learning_rate)\n",
        "model.compile(loss=\"mean_squared_error\",optimizer=optimizer)\n",
        "history=model.fit(x_train,y_train,epochs=epochs,batch_size=batch_size,verbose=3)\n",
        "model.evaluate(x_test,y_test)"
      ],
      "execution_count": 78,
      "outputs": [
        {
          "output_type": "stream",
          "text": [
            "WARNING:tensorflow:5 out of the last 13 calls to <function Model.make_test_function.<locals>.test_function at 0x7fdd9386c620> triggered tf.function retracing. Tracing is expensive and the excessive number of tracings could be due to (1) creating @tf.function repeatedly in a loop, (2) passing tensors with different shapes, (3) passing Python objects instead of tensors. For (1), please define your @tf.function outside of the loop. For (2), @tf.function has experimental_relax_shapes=True option that relaxes argument shapes that can avoid unnecessary retracing. For (3), please refer to https://www.tensorflow.org/tutorials/customization/performance#python_or_tensor_args and https://www.tensorflow.org/api_docs/python/tf/function for  more details.\n",
            "3/3 [==============================] - 0s 2ms/step - loss: 22.5022\n"
          ],
          "name": "stdout"
        },
        {
          "output_type": "execute_result",
          "data": {
            "text/plain": [
              "22.50218391418457"
            ]
          },
          "metadata": {
            "tags": []
          },
          "execution_count": 78
        }
      ]
    },
    {
      "cell_type": "code",
      "metadata": {
        "id": "DZ_Cw5jDzLdk",
        "colab_type": "code",
        "colab": {
          "base_uri": "https://localhost:8080/",
          "height": 279
        },
        "outputId": "da5de4d3-8d04-4ae5-9fd7-e16fb3e205a4"
      },
      "source": [
        "plot_the_loss_curve(history.epoch,history.history['loss'])"
      ],
      "execution_count": 79,
      "outputs": [
        {
          "output_type": "display_data",
          "data": {
            "image/png": "[encoded data removed]",
            "text/plain": [
              "<Figure size 432x288 with 1 Axes>"
            ]
          },
          "metadata": {
            "tags": [],
            "needs_background": "light"
          }
        }
      ]
    }
  ]
}