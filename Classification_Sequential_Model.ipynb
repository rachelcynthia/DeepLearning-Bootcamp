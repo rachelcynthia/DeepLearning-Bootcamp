{
  "nbformat": 4,
  "nbformat_minor": 0,
  "metadata": {
    "colab": {
      "name": "Classification-Sequential_Model",
      "provenance": [],
      "authorship_tag": "ABX9TyMVSVheoEF2yeHqveV+K7o0",
      "include_colab_link": true
    },
    "kernelspec": {
      "name": "python3",
      "display_name": "Python 3"
    }
  },
  "cells": [
    {
      "cell_type": "markdown",
      "metadata": {
        "id": "view-in-github",
        "colab_type": "text"
      },
      "source": [
        "<a href=\"https://colab.research.google.com/github/rachelcynthia/DeepLearning-Bootcamp/blob/master/Classification_Sequential_Model.ipynb\" target=\"_parent\"><img src=\"https://colab.research.google.com/assets/colab-badge.svg\" alt=\"Open In Colab\"/></a>"
      ]
    },
    {
      "cell_type": "code",
      "metadata": {
        "id": "xERdLtPs1yNk",
        "colab_type": "code",
        "colab": {}
      },
      "source": [
        "import numpy as np\n",
        "import tensorflow as tf\n",
        "from tensorflow import keras"
      ],
      "execution_count": 1,
      "outputs": []
    },
    {
      "cell_type": "markdown",
      "metadata": {
        "id": "IUbygZm63Gba",
        "colab_type": "text"
      },
      "source": [
        "**1. Layers - Sequential API**"
      ]
    },
    {
      "cell_type": "code",
      "metadata": {
        "id": "nDEBGQGy3M82",
        "colab_type": "code",
        "colab": {}
      },
      "source": [
        "from keras import layers\n",
        "from keras import Sequential"
      ],
      "execution_count": 2,
      "outputs": []
    },
    {
      "cell_type": "markdown",
      "metadata": {
        "id": "p5q6Qs1F4Gs9",
        "colab_type": "text"
      },
      "source": [
        "A sequnetial model with 3 layers"
      ]
    },
    {
      "cell_type": "code",
      "metadata": {
        "id": "8IqP2K4X4Fy1",
        "colab_type": "code",
        "colab": {
          "base_uri": "https://localhost:8080/",
          "height": 399
        },
        "outputId": "5ee43f71-ee1a-4c1a-f880-1195b865386c"
      },
      "source": [
        "model = keras.Sequential(\n",
        "    [\n",
        "     layers.Dense(2,activation=\"relu\",name=\"layer1\"),\n",
        "     layers.Dense(3,activation=\"relu\",name=\"layer2\"),\n",
        "     layers.Dense(4,name=\"layer3\")\n",
        "    ]\n",
        ")\n",
        "#model.summary() --> will give error as it does not know input\n",
        "#Try out the model:\n",
        "x = tf.ones((3,3))\n",
        "y=model(x)# it knows input shape now only\n",
        "print(x)\n",
        "print(y)\n",
        "model.summary()"
      ],
      "execution_count": 13,
      "outputs": [
        {
          "output_type": "stream",
          "text": [
            "tf.Tensor(\n",
            "[[1. 1. 1.]\n",
            " [1. 1. 1.]\n",
            " [1. 1. 1.]], shape=(3, 3), dtype=float32)\n",
            "tf.Tensor(\n",
            "[[-0.19692114  0.06078066  0.30330354 -0.06751397]\n",
            " [-0.19692114  0.06078066  0.30330354 -0.06751397]\n",
            " [-0.19692114  0.06078066  0.30330354 -0.06751397]], shape=(3, 4), dtype=float32)\n",
            "Model: \"sequential_9\"\n",
            "_________________________________________________________________\n",
            "Layer (type)                 Output Shape              Param #   \n",
            "=================================================================\n",
            "layer1 (Dense)               (3, 2)                    8         \n",
            "_________________________________________________________________\n",
            "layer2 (Dense)               (3, 3)                    9         \n",
            "_________________________________________________________________\n",
            "layer3 (Dense)               (3, 4)                    16        \n",
            "=================================================================\n",
            "Total params: 33\n",
            "Trainable params: 33\n",
            "Non-trainable params: 0\n",
            "_________________________________________________________________\n"
          ],
          "name": "stdout"
        }
      ]
    },
    {
      "cell_type": "markdown",
      "metadata": {
        "id": "-rmSBz_B463H",
        "colab_type": "text"
      },
      "source": [
        "Give the input size"
      ]
    },
    {
      "cell_type": "code",
      "metadata": {
        "id": "rQcJKaHN49Ep",
        "colab_type": "code",
        "colab": {
          "base_uri": "https://localhost:8080/",
          "height": 191
        },
        "outputId": "2045c750-16ec-4ccb-e53f-89e743680540"
      },
      "source": [
        "model=keras.Sequential()\n",
        "model.add(layers.Dense(2,activation=\"relu\", input_shape=(4,)))\n",
        "model.summary()"
      ],
      "execution_count": 14,
      "outputs": [
        {
          "output_type": "stream",
          "text": [
            "Model: \"sequential_10\"\n",
            "_________________________________________________________________\n",
            "Layer (type)                 Output Shape              Param #   \n",
            "=================================================================\n",
            "dense_3 (Dense)              (None, 2)                 10        \n",
            "=================================================================\n",
            "Total params: 10\n",
            "Trainable params: 10\n",
            "Non-trainable params: 0\n",
            "_________________________________________________________________\n"
          ],
          "name": "stdout"
        }
      ]
    },
    {
      "cell_type": "code",
      "metadata": {
        "id": "-MUT8ITbGT_j",
        "colab_type": "code",
        "colab": {
          "base_uri": "https://localhost:8080/",
          "height": 174
        },
        "outputId": "2575a18f-182f-4f93-eaac-b5dd889a91c2"
      },
      "source": [
        "from keras.utils import plot_model\n",
        "plot_model(model)"
      ],
      "execution_count": 16,
      "outputs": [
        {
          "output_type": "execute_result",
          "data": {
            "image/png": "[encoded data removed]",
            "text/plain": [
              "<IPython.core.display.Image object>"
            ]
          },
          "metadata": {
            "tags": []
          },
          "execution_count": 16
        }
      ]
    }
  ]
}