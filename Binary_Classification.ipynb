{
  "nbformat": 4,
  "nbformat_minor": 0,
  "metadata": {
    "colab": {
      "name": "Binary_Classification.ipynb",
      "provenance": [],
      "authorship_tag": "ABX9TyNk3CLFNLJT/oyAgW/TBw04",
      "include_colab_link": true
    },
    "kernelspec": {
      "name": "python3",
      "display_name": "Python 3"
    }
  },
  "cells": [
    {
      "cell_type": "markdown",
      "metadata": {
        "id": "view-in-github",
        "colab_type": "text"
      },
      "source": [
        "<a href=\"https://colab.research.google.com/github/rachelcynthia/DeepLearning-Bootcamp/blob/master/Binary_Classification.ipynb\" target=\"_parent\"><img src=\"https://colab.research.google.com/assets/colab-badge.svg\" alt=\"Open In Colab\"/></a>"
      ]
    },
    {
      "cell_type": "code",
      "metadata": {
        "id": "lAd71UKBUXbN",
        "colab_type": "code",
        "colab": {}
      },
      "source": [
        "import numpy as np\n",
        "import pandas as pd"
      ],
      "execution_count": 1,
      "outputs": []
    },
    {
      "cell_type": "markdown",
      "metadata": {
        "id": "VClFwF4hWDtJ",
        "colab_type": "text"
      },
      "source": [
        "Getting the dataset"
      ]
    },
    {
      "cell_type": "code",
      "metadata": {
        "id": "p1abaJBYWIc5",
        "colab_type": "code",
        "colab": {
          "base_uri": "https://localhost:8080/",
          "height": 222
        },
        "outputId": "0c6311fd-a4e7-49a8-917a-ce0ef6326735"
      },
      "source": [
        "data = pd.read_csv(\"https://raw.githubusercontent.com/dphi-official/Datasets/master/heart_disease.csv\")\n",
        "data.head()"
      ],
      "execution_count": 2,
      "outputs": [
        {
          "output_type": "execute_result",
          "data": {
            "text/html": [
              "<div>\n",
              "<style scoped>\n",
              "    .dataframe tbody tr th:only-of-type {\n",
              "        vertical-align: middle;\n",
              "    }\n",
              "\n",
              "    .dataframe tbody tr th {\n",
              "        vertical-align: top;\n",
              "    }\n",
              "\n",
              "    .dataframe thead th {\n",
              "        text-align: right;\n",
              "    }\n",
              "</style>\n",
              "<table border=\"1\" class=\"dataframe\">\n",
              "  <thead>\n",
              "    <tr style=\"text-align: right;\">\n",
              "      <th></th>\n",
              "      <th>age</th>\n",
              "      <th>sex</th>\n",
              "      <th>cp</th>\n",
              "      <th>trestbps</th>\n",
              "      <th>chol</th>\n",
              "      <th>fbs</th>\n",
              "      <th>restecg</th>\n",
              "      <th>thalach</th>\n",
              "      <th>exang</th>\n",
              "      <th>oldpeak</th>\n",
              "      <th>slope</th>\n",
              "      <th>ca</th>\n",
              "      <th>thal</th>\n",
              "      <th>target</th>\n",
              "    </tr>\n",
              "  </thead>\n",
              "  <tbody>\n",
              "    <tr>\n",
              "      <th>0</th>\n",
              "      <td>63</td>\n",
              "      <td>1</td>\n",
              "      <td>3</td>\n",
              "      <td>145</td>\n",
              "      <td>233</td>\n",
              "      <td>1</td>\n",
              "      <td>0</td>\n",
              "      <td>150</td>\n",
              "      <td>0</td>\n",
              "      <td>2.3</td>\n",
              "      <td>0</td>\n",
              "      <td>0</td>\n",
              "      <td>1</td>\n",
              "      <td>1</td>\n",
              "    </tr>\n",
              "    <tr>\n",
              "      <th>1</th>\n",
              "      <td>37</td>\n",
              "      <td>1</td>\n",
              "      <td>2</td>\n",
              "      <td>130</td>\n",
              "      <td>250</td>\n",
              "      <td>0</td>\n",
              "      <td>1</td>\n",
              "      <td>187</td>\n",
              "      <td>0</td>\n",
              "      <td>3.5</td>\n",
              "      <td>0</td>\n",
              "      <td>0</td>\n",
              "      <td>2</td>\n",
              "      <td>1</td>\n",
              "    </tr>\n",
              "    <tr>\n",
              "      <th>2</th>\n",
              "      <td>41</td>\n",
              "      <td>0</td>\n",
              "      <td>1</td>\n",
              "      <td>130</td>\n",
              "      <td>204</td>\n",
              "      <td>0</td>\n",
              "      <td>0</td>\n",
              "      <td>172</td>\n",
              "      <td>0</td>\n",
              "      <td>1.4</td>\n",
              "      <td>2</td>\n",
              "      <td>0</td>\n",
              "      <td>2</td>\n",
              "      <td>1</td>\n",
              "    </tr>\n",
              "    <tr>\n",
              "      <th>3</th>\n",
              "      <td>56</td>\n",
              "      <td>1</td>\n",
              "      <td>1</td>\n",
              "      <td>120</td>\n",
              "      <td>236</td>\n",
              "      <td>0</td>\n",
              "      <td>1</td>\n",
              "      <td>178</td>\n",
              "      <td>0</td>\n",
              "      <td>0.8</td>\n",
              "      <td>2</td>\n",
              "      <td>0</td>\n",
              "      <td>2</td>\n",
              "      <td>1</td>\n",
              "    </tr>\n",
              "    <tr>\n",
              "      <th>4</th>\n",
              "      <td>57</td>\n",
              "      <td>0</td>\n",
              "      <td>0</td>\n",
              "      <td>120</td>\n",
              "      <td>354</td>\n",
              "      <td>0</td>\n",
              "      <td>1</td>\n",
              "      <td>163</td>\n",
              "      <td>1</td>\n",
              "      <td>0.6</td>\n",
              "      <td>2</td>\n",
              "      <td>0</td>\n",
              "      <td>2</td>\n",
              "      <td>1</td>\n",
              "    </tr>\n",
              "  </tbody>\n",
              "</table>\n",
              "</div>"
            ],
            "text/plain": [
              "   age  sex  cp  trestbps  chol  fbs  ...  exang  oldpeak  slope  ca  thal  target\n",
              "0   63    1   3       145   233    1  ...      0      2.3      0   0     1       1\n",
              "1   37    1   2       130   250    0  ...      0      3.5      0   0     2       1\n",
              "2   41    0   1       130   204    0  ...      0      1.4      2   0     2       1\n",
              "3   56    1   1       120   236    0  ...      0      0.8      2   0     2       1\n",
              "4   57    0   0       120   354    0  ...      1      0.6      2   0     2       1\n",
              "\n",
              "[5 rows x 14 columns]"
            ]
          },
          "metadata": {
            "tags": []
          },
          "execution_count": 2
        }
      ]
    },
    {
      "cell_type": "markdown",
      "metadata": {
        "id": "FCY6GAq7EyOr",
        "colab_type": "text"
      },
      "source": [
        "Setting input and target variable"
      ]
    },
    {
      "cell_type": "code",
      "metadata": {
        "id": "O4SrxOakE4QI",
        "colab_type": "code",
        "colab": {}
      },
      "source": [
        "x=data.drop('target',axis=1)\n",
        "y=data['target']"
      ],
      "execution_count": 3,
      "outputs": []
    },
    {
      "cell_type": "markdown",
      "metadata": {
        "id": "AQfbnGy3FC9m",
        "colab_type": "text"
      },
      "source": [
        "Splitting into training and test set"
      ]
    },
    {
      "cell_type": "code",
      "metadata": {
        "id": "grlKGXD6FF2_",
        "colab_type": "code",
        "colab": {}
      },
      "source": [
        "from sklearn.model_selection import train_test_split\n",
        "x_train,x_test,y_train,y_test = train_test_split(x,y,test_size=0.2,random_state=42)"
      ],
      "execution_count": 4,
      "outputs": []
    },
    {
      "cell_type": "markdown",
      "metadata": {
        "id": "kfThcbx3FZIS",
        "colab_type": "text"
      },
      "source": [
        "Building the model"
      ]
    },
    {
      "cell_type": "code",
      "metadata": {
        "id": "oFsch1h2Fa_5",
        "colab_type": "code",
        "colab": {}
      },
      "source": [
        "import tensorflow as tf\n",
        "from tensorflow import keras\n",
        "from tensorflow.keras import Sequential\n",
        "from tensorflow.keras import layers\n",
        "from keras.layers import Dense"
      ],
      "execution_count": 6,
      "outputs": []
    },
    {
      "cell_type": "code",
      "metadata": {
        "id": "buHQtfB_F1A1",
        "colab_type": "code",
        "colab": {}
      },
      "source": [
        "model=Sequential()\n",
        "model.add(Dense(32,activation='relu',input_shape=(x_train.shape[1],)))\n",
        "model.add(Dense(16,activation='relu'))\n",
        "model.add(Dense(8,activation='relu'))\n",
        "model.add(Dense(1,activation='sigmoid')) # Sigmoid activation function --> To get values between 0 and 1"
      ],
      "execution_count": 9,
      "outputs": []
    },
    {
      "cell_type": "markdown",
      "metadata": {
        "id": "UVW2YDlxGVff",
        "colab_type": "text"
      },
      "source": [
        "Model Compilation"
      ]
    },
    {
      "cell_type": "code",
      "metadata": {
        "id": "czl6GlVHGXRn",
        "colab_type": "code",
        "colab": {}
      },
      "source": [
        "from tensorflow.keras.optimizers import RMSprop\n",
        "optimizer = RMSprop(0.001)\n",
        "model.compile(loss='binary_crossentropy', optimizer=optimizer, metrics = ['accuracy'])"
      ],
      "execution_count": 10,
      "outputs": []
    },
    {
      "cell_type": "code",
      "metadata": {
        "id": "3Vo5OtGsG9dP",
        "colab_type": "code",
        "colab": {
          "base_uri": "https://localhost:8080/",
          "height": 295
        },
        "outputId": "effe1cbe-3f00-4b6f-a1d5-597b92744abe"
      },
      "source": [
        "model.summary()"
      ],
      "execution_count": 11,
      "outputs": [
        {
          "output_type": "stream",
          "text": [
            "Model: \"sequential_1\"\n",
            "_________________________________________________________________\n",
            "Layer (type)                 Output Shape              Param #   \n",
            "=================================================================\n",
            "dense (Dense)                (None, 32)                448       \n",
            "_________________________________________________________________\n",
            "dense_1 (Dense)              (None, 16)                528       \n",
            "_________________________________________________________________\n",
            "dense_2 (Dense)              (None, 8)                 136       \n",
            "_________________________________________________________________\n",
            "dense_3 (Dense)              (None, 1)                 9         \n",
            "=================================================================\n",
            "Total params: 1,121\n",
            "Trainable params: 1,121\n",
            "Non-trainable params: 0\n",
            "_________________________________________________________________\n"
          ],
          "name": "stdout"
        }
      ]
    },
    {
      "cell_type": "markdown",
      "metadata": {
        "id": "61zvi8mEHAr-",
        "colab_type": "text"
      },
      "source": [
        "Plotting the model"
      ]
    },
    {
      "cell_type": "code",
      "metadata": {
        "id": "g-zTvMlyHCfa",
        "colab_type": "code",
        "colab": {
          "base_uri": "https://localhost:8080/",
          "height": 466
        },
        "outputId": "872a8dbb-1f5b-40af-c09a-5d93c07f7699"
      },
      "source": [
        "from keras.utils import plot_model\n",
        "plot_model(model)"
      ],
      "execution_count": 12,
      "outputs": [
        {
          "output_type": "execute_result",
          "data": {
            "image/png": "[encoded data removed]",
            "text/plain": [
              "<IPython.core.display.Image object>"
            ]
          },
          "metadata": {
            "tags": []
          },
          "execution_count": 12
        }
      ]
    },
    {
      "cell_type": "markdown",
      "metadata": {
        "id": "9hlKiJUxHJtv",
        "colab_type": "text"
      },
      "source": [
        "Model Training"
      ]
    },
    {
      "cell_type": "code",
      "metadata": {
        "id": "TRj_dy-QHLuF",
        "colab_type": "code",
        "colab": {
          "base_uri": "https://localhost:8080/",
          "height": 1000
        },
        "outputId": "e020f16f-6e1b-44e1-92e3-3414b1aecbc0"
      },
      "source": [
        "history = model.fit(x_train,y_train,validation_split = 0.2, epochs=200, batch_size=10,verbose=1)"
      ],
      "execution_count": 13,
      "outputs": [
        {
          "output_type": "stream",
          "text": [
            "Epoch 1/200\n",
            "20/20 [==============================] - 0s 11ms/step - loss: 19.5709 - accuracy: 0.4560 - val_loss: 6.3962 - val_accuracy: 0.4286\n",
            "Epoch 2/200\n",
            "20/20 [==============================] - 0s 2ms/step - loss: 4.4543 - accuracy: 0.4560 - val_loss: 1.7747 - val_accuracy: 0.4286\n",
            "Epoch 3/200\n",
            "20/20 [==============================] - 0s 2ms/step - loss: 1.1415 - accuracy: 0.4560 - val_loss: 0.7396 - val_accuracy: 0.4694\n",
            "Epoch 4/200\n",
            "20/20 [==============================] - 0s 3ms/step - loss: 0.7584 - accuracy: 0.4508 - val_loss: 0.7575 - val_accuracy: 0.4694\n",
            "Epoch 5/200\n",
            "20/20 [==============================] - 0s 2ms/step - loss: 0.6994 - accuracy: 0.5544 - val_loss: 0.6632 - val_accuracy: 0.6327\n",
            "Epoch 6/200\n",
            "20/20 [==============================] - 0s 2ms/step - loss: 0.7054 - accuracy: 0.5285 - val_loss: 0.7034 - val_accuracy: 0.5102\n",
            "Epoch 7/200\n",
            "20/20 [==============================] - 0s 2ms/step - loss: 0.6908 - accuracy: 0.5440 - val_loss: 0.6862 - val_accuracy: 0.5918\n",
            "Epoch 8/200\n",
            "20/20 [==============================] - 0s 2ms/step - loss: 0.6905 - accuracy: 0.5440 - val_loss: 0.6860 - val_accuracy: 0.5918\n",
            "Epoch 9/200\n",
            "20/20 [==============================] - 0s 2ms/step - loss: 0.6904 - accuracy: 0.5440 - val_loss: 0.6858 - val_accuracy: 0.5918\n",
            "Epoch 10/200\n",
            "20/20 [==============================] - 0s 2ms/step - loss: 0.6903 - accuracy: 0.5440 - val_loss: 0.6857 - val_accuracy: 0.5918\n",
            "Epoch 11/200\n",
            "20/20 [==============================] - 0s 3ms/step - loss: 0.6904 - accuracy: 0.5440 - val_loss: 0.6857 - val_accuracy: 0.5918\n",
            "Epoch 12/200\n",
            "20/20 [==============================] - 0s 2ms/step - loss: 0.6903 - accuracy: 0.5440 - val_loss: 0.6855 - val_accuracy: 0.5918\n",
            "Epoch 13/200\n",
            "20/20 [==============================] - 0s 2ms/step - loss: 0.6902 - accuracy: 0.5440 - val_loss: 0.6853 - val_accuracy: 0.5918\n",
            "Epoch 14/200\n",
            "20/20 [==============================] - 0s 2ms/step - loss: 0.6902 - accuracy: 0.5440 - val_loss: 0.6853 - val_accuracy: 0.5918\n",
            "Epoch 15/200\n",
            "20/20 [==============================] - 0s 2ms/step - loss: 0.6902 - accuracy: 0.5440 - val_loss: 0.6851 - val_accuracy: 0.5918\n",
            "Epoch 16/200\n",
            "20/20 [==============================] - 0s 2ms/step - loss: 0.6901 - accuracy: 0.5440 - val_loss: 0.6850 - val_accuracy: 0.5918\n",
            "Epoch 17/200\n",
            "20/20 [==============================] - 0s 2ms/step - loss: 0.6900 - accuracy: 0.5440 - val_loss: 0.6849 - val_accuracy: 0.5918\n",
            "Epoch 18/200\n",
            "20/20 [==============================] - 0s 2ms/step - loss: 0.6900 - accuracy: 0.5440 - val_loss: 0.6847 - val_accuracy: 0.5918\n",
            "Epoch 19/200\n",
            "20/20 [==============================] - 0s 2ms/step - loss: 0.6900 - accuracy: 0.5440 - val_loss: 0.6846 - val_accuracy: 0.5918\n",
            "Epoch 20/200\n",
            "20/20 [==============================] - 0s 2ms/step - loss: 0.6899 - accuracy: 0.5440 - val_loss: 0.6846 - val_accuracy: 0.5918\n",
            "Epoch 21/200\n",
            "20/20 [==============================] - 0s 2ms/step - loss: 0.6899 - accuracy: 0.5440 - val_loss: 0.6846 - val_accuracy: 0.5918\n",
            "Epoch 22/200\n",
            "20/20 [==============================] - 0s 2ms/step - loss: 0.6899 - accuracy: 0.5440 - val_loss: 0.6844 - val_accuracy: 0.5918\n",
            "Epoch 23/200\n",
            "20/20 [==============================] - 0s 2ms/step - loss: 0.6898 - accuracy: 0.5440 - val_loss: 0.6843 - val_accuracy: 0.5918\n",
            "Epoch 24/200\n",
            "20/20 [==============================] - 0s 3ms/step - loss: 0.6898 - accuracy: 0.5440 - val_loss: 0.6843 - val_accuracy: 0.5918\n",
            "Epoch 25/200\n",
            "20/20 [==============================] - 0s 2ms/step - loss: 0.6898 - accuracy: 0.5440 - val_loss: 0.6843 - val_accuracy: 0.5918\n",
            "Epoch 26/200\n",
            "20/20 [==============================] - 0s 2ms/step - loss: 0.6897 - accuracy: 0.5440 - val_loss: 0.6841 - val_accuracy: 0.5918\n",
            "Epoch 27/200\n",
            "20/20 [==============================] - 0s 2ms/step - loss: 0.6897 - accuracy: 0.5440 - val_loss: 0.6841 - val_accuracy: 0.5918\n",
            "Epoch 28/200\n",
            "20/20 [==============================] - 0s 2ms/step - loss: 0.6897 - accuracy: 0.5440 - val_loss: 0.6840 - val_accuracy: 0.5918\n",
            "Epoch 29/200\n",
            "20/20 [==============================] - 0s 2ms/step - loss: 0.6897 - accuracy: 0.5440 - val_loss: 0.6839 - val_accuracy: 0.5918\n",
            "Epoch 30/200\n",
            "20/20 [==============================] - 0s 2ms/step - loss: 0.6897 - accuracy: 0.5440 - val_loss: 0.6839 - val_accuracy: 0.5918\n",
            "Epoch 31/200\n",
            "20/20 [==============================] - 0s 2ms/step - loss: 0.6896 - accuracy: 0.5440 - val_loss: 0.6839 - val_accuracy: 0.5918\n",
            "Epoch 32/200\n",
            "20/20 [==============================] - 0s 2ms/step - loss: 0.6896 - accuracy: 0.5440 - val_loss: 0.6838 - val_accuracy: 0.5918\n",
            "Epoch 33/200\n",
            "20/20 [==============================] - 0s 2ms/step - loss: 0.6896 - accuracy: 0.5440 - val_loss: 0.6837 - val_accuracy: 0.5918\n",
            "Epoch 34/200\n",
            "20/20 [==============================] - 0s 3ms/step - loss: 0.6896 - accuracy: 0.5440 - val_loss: 0.6836 - val_accuracy: 0.5918\n",
            "Epoch 35/200\n",
            "20/20 [==============================] - 0s 2ms/step - loss: 0.6896 - accuracy: 0.5440 - val_loss: 0.6836 - val_accuracy: 0.5918\n",
            "Epoch 36/200\n",
            "20/20 [==============================] - 0s 2ms/step - loss: 0.6896 - accuracy: 0.5440 - val_loss: 0.6836 - val_accuracy: 0.5918\n",
            "Epoch 37/200\n",
            "20/20 [==============================] - 0s 2ms/step - loss: 0.6896 - accuracy: 0.5440 - val_loss: 0.6835 - val_accuracy: 0.5918\n",
            "Epoch 38/200\n",
            "20/20 [==============================] - 0s 2ms/step - loss: 0.6895 - accuracy: 0.5440 - val_loss: 0.6835 - val_accuracy: 0.5918\n",
            "Epoch 39/200\n",
            "20/20 [==============================] - 0s 2ms/step - loss: 0.6895 - accuracy: 0.5440 - val_loss: 0.6835 - val_accuracy: 0.5918\n",
            "Epoch 40/200\n",
            "20/20 [==============================] - 0s 2ms/step - loss: 0.6895 - accuracy: 0.5440 - val_loss: 0.6835 - val_accuracy: 0.5918\n",
            "Epoch 41/200\n",
            "20/20 [==============================] - 0s 2ms/step - loss: 0.6895 - accuracy: 0.5440 - val_loss: 0.6834 - val_accuracy: 0.5918\n",
            "Epoch 42/200\n",
            "20/20 [==============================] - 0s 2ms/step - loss: 0.6895 - accuracy: 0.5440 - val_loss: 0.6834 - val_accuracy: 0.5918\n",
            "Epoch 43/200\n",
            "20/20 [==============================] - 0s 2ms/step - loss: 0.6895 - accuracy: 0.5440 - val_loss: 0.6834 - val_accuracy: 0.5918\n",
            "Epoch 44/200\n",
            "20/20 [==============================] - 0s 2ms/step - loss: 0.6895 - accuracy: 0.5440 - val_loss: 0.6834 - val_accuracy: 0.5918\n",
            "Epoch 45/200\n",
            "20/20 [==============================] - 0s 2ms/step - loss: 0.6895 - accuracy: 0.5440 - val_loss: 0.6834 - val_accuracy: 0.5918\n",
            "Epoch 46/200\n",
            "20/20 [==============================] - 0s 2ms/step - loss: 0.6895 - accuracy: 0.5440 - val_loss: 0.6833 - val_accuracy: 0.5918\n",
            "Epoch 47/200\n",
            "20/20 [==============================] - 0s 2ms/step - loss: 0.6895 - accuracy: 0.5440 - val_loss: 0.6832 - val_accuracy: 0.5918\n",
            "Epoch 48/200\n",
            "20/20 [==============================] - 0s 2ms/step - loss: 0.6895 - accuracy: 0.5440 - val_loss: 0.6832 - val_accuracy: 0.5918\n",
            "Epoch 49/200\n",
            "20/20 [==============================] - 0s 2ms/step - loss: 0.6895 - accuracy: 0.5440 - val_loss: 0.6832 - val_accuracy: 0.5918\n",
            "Epoch 50/200\n",
            "20/20 [==============================] - 0s 2ms/step - loss: 0.6894 - accuracy: 0.5440 - val_loss: 0.6831 - val_accuracy: 0.5918\n",
            "Epoch 51/200\n",
            "20/20 [==============================] - 0s 2ms/step - loss: 0.6894 - accuracy: 0.5440 - val_loss: 0.6830 - val_accuracy: 0.5918\n",
            "Epoch 52/200\n",
            "20/20 [==============================] - 0s 2ms/step - loss: 0.6894 - accuracy: 0.5440 - val_loss: 0.6830 - val_accuracy: 0.5918\n",
            "Epoch 53/200\n",
            "20/20 [==============================] - 0s 3ms/step - loss: 0.6894 - accuracy: 0.5440 - val_loss: 0.6830 - val_accuracy: 0.5918\n",
            "Epoch 54/200\n",
            "20/20 [==============================] - 0s 2ms/step - loss: 0.6894 - accuracy: 0.5440 - val_loss: 0.6829 - val_accuracy: 0.5918\n",
            "Epoch 55/200\n",
            "20/20 [==============================] - 0s 2ms/step - loss: 0.6894 - accuracy: 0.5440 - val_loss: 0.6829 - val_accuracy: 0.5918\n",
            "Epoch 56/200\n",
            "20/20 [==============================] - 0s 2ms/step - loss: 0.6894 - accuracy: 0.5440 - val_loss: 0.6828 - val_accuracy: 0.5918\n",
            "Epoch 57/200\n",
            "20/20 [==============================] - 0s 2ms/step - loss: 0.6894 - accuracy: 0.5440 - val_loss: 0.6827 - val_accuracy: 0.5918\n",
            "Epoch 58/200\n",
            "20/20 [==============================] - 0s 2ms/step - loss: 0.6894 - accuracy: 0.5440 - val_loss: 0.6826 - val_accuracy: 0.5918\n",
            "Epoch 59/200\n",
            "20/20 [==============================] - 0s 2ms/step - loss: 0.6894 - accuracy: 0.5440 - val_loss: 0.6827 - val_accuracy: 0.5918\n",
            "Epoch 60/200\n",
            "20/20 [==============================] - 0s 2ms/step - loss: 0.6894 - accuracy: 0.5440 - val_loss: 0.6827 - val_accuracy: 0.5918\n",
            "Epoch 61/200\n",
            "20/20 [==============================] - 0s 2ms/step - loss: 0.6893 - accuracy: 0.5440 - val_loss: 0.6827 - val_accuracy: 0.5918\n",
            "Epoch 62/200\n",
            "20/20 [==============================] - 0s 2ms/step - loss: 0.6893 - accuracy: 0.5440 - val_loss: 0.6827 - val_accuracy: 0.5918\n",
            "Epoch 63/200\n",
            "20/20 [==============================] - 0s 2ms/step - loss: 0.6894 - accuracy: 0.5440 - val_loss: 0.6827 - val_accuracy: 0.5918\n",
            "Epoch 64/200\n",
            "20/20 [==============================] - 0s 2ms/step - loss: 0.6894 - accuracy: 0.5440 - val_loss: 0.6827 - val_accuracy: 0.5918\n",
            "Epoch 65/200\n",
            "20/20 [==============================] - 0s 2ms/step - loss: 0.6894 - accuracy: 0.5440 - val_loss: 0.6826 - val_accuracy: 0.5918\n",
            "Epoch 66/200\n",
            "20/20 [==============================] - 0s 2ms/step - loss: 0.6894 - accuracy: 0.5440 - val_loss: 0.6826 - val_accuracy: 0.5918\n",
            "Epoch 67/200\n",
            "20/20 [==============================] - 0s 2ms/step - loss: 0.6893 - accuracy: 0.5440 - val_loss: 0.6826 - val_accuracy: 0.5918\n",
            "Epoch 68/200\n",
            "20/20 [==============================] - 0s 2ms/step - loss: 0.6894 - accuracy: 0.5440 - val_loss: 0.6826 - val_accuracy: 0.5918\n",
            "Epoch 69/200\n",
            "20/20 [==============================] - 0s 3ms/step - loss: 0.6893 - accuracy: 0.5440 - val_loss: 0.6826 - val_accuracy: 0.5918\n",
            "Epoch 70/200\n",
            "20/20 [==============================] - 0s 2ms/step - loss: 0.6894 - accuracy: 0.5440 - val_loss: 0.6826 - val_accuracy: 0.5918\n",
            "Epoch 71/200\n",
            "20/20 [==============================] - 0s 2ms/step - loss: 0.6893 - accuracy: 0.5440 - val_loss: 0.6827 - val_accuracy: 0.5918\n",
            "Epoch 72/200\n",
            "20/20 [==============================] - 0s 2ms/step - loss: 0.6894 - accuracy: 0.5440 - val_loss: 0.6826 - val_accuracy: 0.5918\n",
            "Epoch 73/200\n",
            "20/20 [==============================] - 0s 2ms/step - loss: 0.6894 - accuracy: 0.5440 - val_loss: 0.6827 - val_accuracy: 0.5918\n",
            "Epoch 74/200\n",
            "20/20 [==============================] - 0s 2ms/step - loss: 0.6894 - accuracy: 0.5440 - val_loss: 0.6826 - val_accuracy: 0.5918\n",
            "Epoch 75/200\n",
            "20/20 [==============================] - 0s 2ms/step - loss: 0.6894 - accuracy: 0.5440 - val_loss: 0.6826 - val_accuracy: 0.5918\n",
            "Epoch 76/200\n",
            "20/20 [==============================] - 0s 2ms/step - loss: 0.6893 - accuracy: 0.5440 - val_loss: 0.6825 - val_accuracy: 0.5918\n",
            "Epoch 77/200\n",
            "20/20 [==============================] - 0s 2ms/step - loss: 0.6894 - accuracy: 0.5440 - val_loss: 0.6825 - val_accuracy: 0.5918\n",
            "Epoch 78/200\n",
            "20/20 [==============================] - 0s 3ms/step - loss: 0.6893 - accuracy: 0.5440 - val_loss: 0.6825 - val_accuracy: 0.5918\n",
            "Epoch 79/200\n",
            "20/20 [==============================] - 0s 3ms/step - loss: 0.6893 - accuracy: 0.5440 - val_loss: 0.6825 - val_accuracy: 0.5918\n",
            "Epoch 80/200\n",
            "20/20 [==============================] - 0s 2ms/step - loss: 0.6894 - accuracy: 0.5440 - val_loss: 0.6826 - val_accuracy: 0.5918\n",
            "Epoch 81/200\n",
            "20/20 [==============================] - 0s 3ms/step - loss: 0.6893 - accuracy: 0.5440 - val_loss: 0.6826 - val_accuracy: 0.5918\n",
            "Epoch 82/200\n",
            "20/20 [==============================] - 0s 2ms/step - loss: 0.6893 - accuracy: 0.5440 - val_loss: 0.6826 - val_accuracy: 0.5918\n",
            "Epoch 83/200\n",
            "20/20 [==============================] - 0s 2ms/step - loss: 0.6894 - accuracy: 0.5440 - val_loss: 0.6825 - val_accuracy: 0.5918\n",
            "Epoch 84/200\n",
            "20/20 [==============================] - 0s 2ms/step - loss: 0.6893 - accuracy: 0.5440 - val_loss: 0.6825 - val_accuracy: 0.5918\n",
            "Epoch 85/200\n",
            "20/20 [==============================] - 0s 3ms/step - loss: 0.6893 - accuracy: 0.5440 - val_loss: 0.6824 - val_accuracy: 0.5918\n",
            "Epoch 86/200\n",
            "20/20 [==============================] - 0s 2ms/step - loss: 0.6893 - accuracy: 0.5440 - val_loss: 0.6825 - val_accuracy: 0.5918\n",
            "Epoch 87/200\n",
            "20/20 [==============================] - 0s 2ms/step - loss: 0.6893 - accuracy: 0.5440 - val_loss: 0.6824 - val_accuracy: 0.5918\n",
            "Epoch 88/200\n",
            "20/20 [==============================] - 0s 2ms/step - loss: 0.6894 - accuracy: 0.5440 - val_loss: 0.6824 - val_accuracy: 0.5918\n",
            "Epoch 89/200\n",
            "20/20 [==============================] - 0s 2ms/step - loss: 0.6893 - accuracy: 0.5440 - val_loss: 0.6824 - val_accuracy: 0.5918\n",
            "Epoch 90/200\n",
            "20/20 [==============================] - 0s 2ms/step - loss: 0.6894 - accuracy: 0.5440 - val_loss: 0.6825 - val_accuracy: 0.5918\n",
            "Epoch 91/200\n",
            "20/20 [==============================] - 0s 2ms/step - loss: 0.6893 - accuracy: 0.5440 - val_loss: 0.6824 - val_accuracy: 0.5918\n",
            "Epoch 92/200\n",
            "20/20 [==============================] - 0s 2ms/step - loss: 0.6893 - accuracy: 0.5440 - val_loss: 0.6825 - val_accuracy: 0.5918\n",
            "Epoch 93/200\n",
            "20/20 [==============================] - 0s 2ms/step - loss: 0.6893 - accuracy: 0.5440 - val_loss: 0.6824 - val_accuracy: 0.5918\n",
            "Epoch 94/200\n",
            "20/20 [==============================] - 0s 2ms/step - loss: 0.6893 - accuracy: 0.5440 - val_loss: 0.6825 - val_accuracy: 0.5918\n",
            "Epoch 95/200\n",
            "20/20 [==============================] - 0s 2ms/step - loss: 0.6894 - accuracy: 0.5440 - val_loss: 0.6824 - val_accuracy: 0.5918\n",
            "Epoch 96/200\n",
            "20/20 [==============================] - 0s 2ms/step - loss: 0.6893 - accuracy: 0.5440 - val_loss: 0.6824 - val_accuracy: 0.5918\n",
            "Epoch 97/200\n",
            "20/20 [==============================] - 0s 2ms/step - loss: 0.6894 - accuracy: 0.5440 - val_loss: 0.6824 - val_accuracy: 0.5918\n",
            "Epoch 98/200\n",
            "20/20 [==============================] - 0s 2ms/step - loss: 0.6893 - accuracy: 0.5440 - val_loss: 0.6823 - val_accuracy: 0.5918\n",
            "Epoch 99/200\n",
            "20/20 [==============================] - 0s 2ms/step - loss: 0.6893 - accuracy: 0.5440 - val_loss: 0.6824 - val_accuracy: 0.5918\n",
            "Epoch 100/200\n",
            "20/20 [==============================] - 0s 2ms/step - loss: 0.6894 - accuracy: 0.5440 - val_loss: 0.6824 - val_accuracy: 0.5918\n",
            "Epoch 101/200\n",
            "20/20 [==============================] - 0s 2ms/step - loss: 0.6894 - accuracy: 0.5440 - val_loss: 0.6824 - val_accuracy: 0.5918\n",
            "Epoch 102/200\n",
            "20/20 [==============================] - 0s 3ms/step - loss: 0.6893 - accuracy: 0.5440 - val_loss: 0.6824 - val_accuracy: 0.5918\n",
            "Epoch 103/200\n",
            "20/20 [==============================] - 0s 2ms/step - loss: 0.6893 - accuracy: 0.5440 - val_loss: 0.6824 - val_accuracy: 0.5918\n",
            "Epoch 104/200\n",
            "20/20 [==============================] - 0s 2ms/step - loss: 0.6893 - accuracy: 0.5440 - val_loss: 0.6824 - val_accuracy: 0.5918\n",
            "Epoch 105/200\n",
            "20/20 [==============================] - 0s 2ms/step - loss: 0.6893 - accuracy: 0.5440 - val_loss: 0.6824 - val_accuracy: 0.5918\n",
            "Epoch 106/200\n",
            "20/20 [==============================] - 0s 2ms/step - loss: 0.6893 - accuracy: 0.5440 - val_loss: 0.6823 - val_accuracy: 0.5918\n",
            "Epoch 107/200\n",
            "20/20 [==============================] - 0s 2ms/step - loss: 0.6893 - accuracy: 0.5440 - val_loss: 0.6824 - val_accuracy: 0.5918\n",
            "Epoch 108/200\n",
            "20/20 [==============================] - 0s 2ms/step - loss: 0.6893 - accuracy: 0.5440 - val_loss: 0.6824 - val_accuracy: 0.5918\n",
            "Epoch 109/200\n",
            "20/20 [==============================] - 0s 2ms/step - loss: 0.6893 - accuracy: 0.5440 - val_loss: 0.6823 - val_accuracy: 0.5918\n",
            "Epoch 110/200\n",
            "20/20 [==============================] - 0s 2ms/step - loss: 0.6893 - accuracy: 0.5440 - val_loss: 0.6824 - val_accuracy: 0.5918\n",
            "Epoch 111/200\n",
            "20/20 [==============================] - 0s 2ms/step - loss: 0.6893 - accuracy: 0.5440 - val_loss: 0.6823 - val_accuracy: 0.5918\n",
            "Epoch 112/200\n",
            "20/20 [==============================] - 0s 2ms/step - loss: 0.6893 - accuracy: 0.5440 - val_loss: 0.6823 - val_accuracy: 0.5918\n",
            "Epoch 113/200\n",
            "20/20 [==============================] - 0s 2ms/step - loss: 0.6893 - accuracy: 0.5440 - val_loss: 0.6823 - val_accuracy: 0.5918\n",
            "Epoch 114/200\n",
            "20/20 [==============================] - 0s 2ms/step - loss: 0.6893 - accuracy: 0.5440 - val_loss: 0.6823 - val_accuracy: 0.5918\n",
            "Epoch 115/200\n",
            "20/20 [==============================] - 0s 2ms/step - loss: 0.6893 - accuracy: 0.5440 - val_loss: 0.6823 - val_accuracy: 0.5918\n",
            "Epoch 116/200\n",
            "20/20 [==============================] - 0s 2ms/step - loss: 0.6893 - accuracy: 0.5440 - val_loss: 0.6822 - val_accuracy: 0.5918\n",
            "Epoch 117/200\n",
            "20/20 [==============================] - 0s 2ms/step - loss: 0.6894 - accuracy: 0.5440 - val_loss: 0.6823 - val_accuracy: 0.5918\n",
            "Epoch 118/200\n",
            "20/20 [==============================] - 0s 2ms/step - loss: 0.6893 - accuracy: 0.5440 - val_loss: 0.6823 - val_accuracy: 0.5918\n",
            "Epoch 119/200\n",
            "20/20 [==============================] - 0s 2ms/step - loss: 0.6894 - accuracy: 0.5440 - val_loss: 0.6823 - val_accuracy: 0.5918\n",
            "Epoch 120/200\n",
            "20/20 [==============================] - 0s 2ms/step - loss: 0.6894 - accuracy: 0.5440 - val_loss: 0.6823 - val_accuracy: 0.5918\n",
            "Epoch 121/200\n",
            "20/20 [==============================] - 0s 2ms/step - loss: 0.6893 - accuracy: 0.5440 - val_loss: 0.6823 - val_accuracy: 0.5918\n",
            "Epoch 122/200\n",
            "20/20 [==============================] - 0s 3ms/step - loss: 0.6894 - accuracy: 0.5440 - val_loss: 0.6824 - val_accuracy: 0.5918\n",
            "Epoch 123/200\n",
            "20/20 [==============================] - 0s 2ms/step - loss: 0.6893 - accuracy: 0.5440 - val_loss: 0.6823 - val_accuracy: 0.5918\n",
            "Epoch 124/200\n",
            "20/20 [==============================] - 0s 3ms/step - loss: 0.6893 - accuracy: 0.5440 - val_loss: 0.6823 - val_accuracy: 0.5918\n",
            "Epoch 125/200\n",
            "20/20 [==============================] - 0s 2ms/step - loss: 0.6893 - accuracy: 0.5440 - val_loss: 0.6822 - val_accuracy: 0.5918\n",
            "Epoch 126/200\n",
            "20/20 [==============================] - 0s 2ms/step - loss: 0.6893 - accuracy: 0.5440 - val_loss: 0.6823 - val_accuracy: 0.5918\n",
            "Epoch 127/200\n",
            "20/20 [==============================] - 0s 2ms/step - loss: 0.6893 - accuracy: 0.5440 - val_loss: 0.6822 - val_accuracy: 0.5918\n",
            "Epoch 128/200\n",
            "20/20 [==============================] - 0s 2ms/step - loss: 0.6894 - accuracy: 0.5440 - val_loss: 0.6823 - val_accuracy: 0.5918\n",
            "Epoch 129/200\n",
            "20/20 [==============================] - 0s 2ms/step - loss: 0.6893 - accuracy: 0.5440 - val_loss: 0.6822 - val_accuracy: 0.5918\n",
            "Epoch 130/200\n",
            "20/20 [==============================] - 0s 2ms/step - loss: 0.6894 - accuracy: 0.5440 - val_loss: 0.6823 - val_accuracy: 0.5918\n",
            "Epoch 131/200\n",
            "20/20 [==============================] - 0s 2ms/step - loss: 0.6893 - accuracy: 0.5440 - val_loss: 0.6823 - val_accuracy: 0.5918\n",
            "Epoch 132/200\n",
            "20/20 [==============================] - 0s 2ms/step - loss: 0.6894 - accuracy: 0.5440 - val_loss: 0.6823 - val_accuracy: 0.5918\n",
            "Epoch 133/200\n",
            "20/20 [==============================] - 0s 2ms/step - loss: 0.6893 - accuracy: 0.5440 - val_loss: 0.6823 - val_accuracy: 0.5918\n",
            "Epoch 134/200\n",
            "20/20 [==============================] - 0s 2ms/step - loss: 0.6893 - accuracy: 0.5440 - val_loss: 0.6823 - val_accuracy: 0.5918\n",
            "Epoch 135/200\n",
            "20/20 [==============================] - 0s 2ms/step - loss: 0.6894 - accuracy: 0.5440 - val_loss: 0.6823 - val_accuracy: 0.5918\n",
            "Epoch 136/200\n",
            "20/20 [==============================] - 0s 2ms/step - loss: 0.6893 - accuracy: 0.5440 - val_loss: 0.6823 - val_accuracy: 0.5918\n",
            "Epoch 137/200\n",
            "20/20 [==============================] - 0s 2ms/step - loss: 0.6893 - accuracy: 0.5440 - val_loss: 0.6823 - val_accuracy: 0.5918\n",
            "Epoch 138/200\n",
            "20/20 [==============================] - 0s 2ms/step - loss: 0.6893 - accuracy: 0.5440 - val_loss: 0.6822 - val_accuracy: 0.5918\n",
            "Epoch 139/200\n",
            "20/20 [==============================] - 0s 2ms/step - loss: 0.6893 - accuracy: 0.5440 - val_loss: 0.6822 - val_accuracy: 0.5918\n",
            "Epoch 140/200\n",
            "20/20 [==============================] - 0s 2ms/step - loss: 0.6893 - accuracy: 0.5440 - val_loss: 0.6822 - val_accuracy: 0.5918\n",
            "Epoch 141/200\n",
            "20/20 [==============================] - 0s 2ms/step - loss: 0.6893 - accuracy: 0.5440 - val_loss: 0.6821 - val_accuracy: 0.5918\n",
            "Epoch 142/200\n",
            "20/20 [==============================] - 0s 2ms/step - loss: 0.6893 - accuracy: 0.5440 - val_loss: 0.6821 - val_accuracy: 0.5918\n",
            "Epoch 143/200\n",
            "20/20 [==============================] - 0s 2ms/step - loss: 0.6893 - accuracy: 0.5440 - val_loss: 0.6821 - val_accuracy: 0.5918\n",
            "Epoch 144/200\n",
            "20/20 [==============================] - 0s 2ms/step - loss: 0.6893 - accuracy: 0.5440 - val_loss: 0.6821 - val_accuracy: 0.5918\n",
            "Epoch 145/200\n",
            "20/20 [==============================] - 0s 2ms/step - loss: 0.6893 - accuracy: 0.5440 - val_loss: 0.6821 - val_accuracy: 0.5918\n",
            "Epoch 146/200\n",
            "20/20 [==============================] - 0s 2ms/step - loss: 0.6893 - accuracy: 0.5440 - val_loss: 0.6821 - val_accuracy: 0.5918\n",
            "Epoch 147/200\n",
            "20/20 [==============================] - 0s 2ms/step - loss: 0.6894 - accuracy: 0.5440 - val_loss: 0.6820 - val_accuracy: 0.5918\n",
            "Epoch 148/200\n",
            "20/20 [==============================] - 0s 2ms/step - loss: 0.6894 - accuracy: 0.5440 - val_loss: 0.6820 - val_accuracy: 0.5918\n",
            "Epoch 149/200\n",
            "20/20 [==============================] - 0s 2ms/step - loss: 0.6893 - accuracy: 0.5440 - val_loss: 0.6821 - val_accuracy: 0.5918\n",
            "Epoch 150/200\n",
            "20/20 [==============================] - 0s 2ms/step - loss: 0.6893 - accuracy: 0.5440 - val_loss: 0.6820 - val_accuracy: 0.5918\n",
            "Epoch 151/200\n",
            "20/20 [==============================] - 0s 2ms/step - loss: 0.6893 - accuracy: 0.5440 - val_loss: 0.6820 - val_accuracy: 0.5918\n",
            "Epoch 152/200\n",
            "20/20 [==============================] - 0s 3ms/step - loss: 0.6893 - accuracy: 0.5440 - val_loss: 0.6821 - val_accuracy: 0.5918\n",
            "Epoch 153/200\n",
            "20/20 [==============================] - 0s 2ms/step - loss: 0.6893 - accuracy: 0.5440 - val_loss: 0.6821 - val_accuracy: 0.5918\n",
            "Epoch 154/200\n",
            "20/20 [==============================] - 0s 2ms/step - loss: 0.6893 - accuracy: 0.5440 - val_loss: 0.6820 - val_accuracy: 0.5918\n",
            "Epoch 155/200\n",
            "20/20 [==============================] - 0s 2ms/step - loss: 0.6893 - accuracy: 0.5440 - val_loss: 0.6820 - val_accuracy: 0.5918\n",
            "Epoch 156/200\n",
            "20/20 [==============================] - 0s 2ms/step - loss: 0.6893 - accuracy: 0.5440 - val_loss: 0.6819 - val_accuracy: 0.5918\n",
            "Epoch 157/200\n",
            "20/20 [==============================] - 0s 2ms/step - loss: 0.6893 - accuracy: 0.5440 - val_loss: 0.6819 - val_accuracy: 0.5918\n",
            "Epoch 158/200\n",
            "20/20 [==============================] - 0s 2ms/step - loss: 0.6893 - accuracy: 0.5440 - val_loss: 0.6819 - val_accuracy: 0.5918\n",
            "Epoch 159/200\n",
            "20/20 [==============================] - 0s 2ms/step - loss: 0.6894 - accuracy: 0.5440 - val_loss: 0.6819 - val_accuracy: 0.5918\n",
            "Epoch 160/200\n",
            "20/20 [==============================] - 0s 2ms/step - loss: 0.6893 - accuracy: 0.5440 - val_loss: 0.6819 - val_accuracy: 0.5918\n",
            "Epoch 161/200\n",
            "20/20 [==============================] - 0s 2ms/step - loss: 0.6894 - accuracy: 0.5440 - val_loss: 0.6819 - val_accuracy: 0.5918\n",
            "Epoch 162/200\n",
            "20/20 [==============================] - 0s 2ms/step - loss: 0.6893 - accuracy: 0.5440 - val_loss: 0.6819 - val_accuracy: 0.5918\n",
            "Epoch 163/200\n",
            "20/20 [==============================] - 0s 2ms/step - loss: 0.6894 - accuracy: 0.5440 - val_loss: 0.6819 - val_accuracy: 0.5918\n",
            "Epoch 164/200\n",
            "20/20 [==============================] - 0s 2ms/step - loss: 0.6893 - accuracy: 0.5440 - val_loss: 0.6819 - val_accuracy: 0.5918\n",
            "Epoch 165/200\n",
            "20/20 [==============================] - 0s 2ms/step - loss: 0.6894 - accuracy: 0.5440 - val_loss: 0.6818 - val_accuracy: 0.5918\n",
            "Epoch 166/200\n",
            "20/20 [==============================] - 0s 2ms/step - loss: 0.6894 - accuracy: 0.5440 - val_loss: 0.6819 - val_accuracy: 0.5918\n",
            "Epoch 167/200\n",
            "20/20 [==============================] - 0s 2ms/step - loss: 0.6893 - accuracy: 0.5440 - val_loss: 0.6818 - val_accuracy: 0.5918\n",
            "Epoch 168/200\n",
            "20/20 [==============================] - 0s 2ms/step - loss: 0.6893 - accuracy: 0.5440 - val_loss: 0.6819 - val_accuracy: 0.5918\n",
            "Epoch 169/200\n",
            "20/20 [==============================] - 0s 2ms/step - loss: 0.6893 - accuracy: 0.5440 - val_loss: 0.6819 - val_accuracy: 0.5918\n",
            "Epoch 170/200\n",
            "20/20 [==============================] - 0s 2ms/step - loss: 0.6894 - accuracy: 0.5440 - val_loss: 0.6819 - val_accuracy: 0.5918\n",
            "Epoch 171/200\n",
            "20/20 [==============================] - 0s 2ms/step - loss: 0.6893 - accuracy: 0.5440 - val_loss: 0.6820 - val_accuracy: 0.5918\n",
            "Epoch 172/200\n",
            "20/20 [==============================] - 0s 2ms/step - loss: 0.6893 - accuracy: 0.5440 - val_loss: 0.6820 - val_accuracy: 0.5918\n",
            "Epoch 173/200\n",
            "20/20 [==============================] - 0s 2ms/step - loss: 0.6894 - accuracy: 0.5440 - val_loss: 0.6820 - val_accuracy: 0.5918\n",
            "Epoch 174/200\n",
            "20/20 [==============================] - 0s 2ms/step - loss: 0.6893 - accuracy: 0.5440 - val_loss: 0.6821 - val_accuracy: 0.5918\n",
            "Epoch 175/200\n",
            "20/20 [==============================] - 0s 2ms/step - loss: 0.6893 - accuracy: 0.5440 - val_loss: 0.6821 - val_accuracy: 0.5918\n",
            "Epoch 176/200\n",
            "20/20 [==============================] - 0s 2ms/step - loss: 0.6893 - accuracy: 0.5440 - val_loss: 0.6821 - val_accuracy: 0.5918\n",
            "Epoch 177/200\n",
            "20/20 [==============================] - 0s 2ms/step - loss: 0.6893 - accuracy: 0.5440 - val_loss: 0.6822 - val_accuracy: 0.5918\n",
            "Epoch 178/200\n",
            "20/20 [==============================] - 0s 2ms/step - loss: 0.6893 - accuracy: 0.5440 - val_loss: 0.6821 - val_accuracy: 0.5918\n",
            "Epoch 179/200\n",
            "20/20 [==============================] - 0s 2ms/step - loss: 0.6894 - accuracy: 0.5440 - val_loss: 0.6821 - val_accuracy: 0.5918\n",
            "Epoch 180/200\n",
            "20/20 [==============================] - 0s 2ms/step - loss: 0.6893 - accuracy: 0.5440 - val_loss: 0.6821 - val_accuracy: 0.5918\n",
            "Epoch 181/200\n",
            "20/20 [==============================] - 0s 2ms/step - loss: 0.6894 - accuracy: 0.5440 - val_loss: 0.6821 - val_accuracy: 0.5918\n",
            "Epoch 182/200\n",
            "20/20 [==============================] - 0s 2ms/step - loss: 0.6893 - accuracy: 0.5440 - val_loss: 0.6821 - val_accuracy: 0.5918\n",
            "Epoch 183/200\n",
            "20/20 [==============================] - 0s 2ms/step - loss: 0.6894 - accuracy: 0.5440 - val_loss: 0.6821 - val_accuracy: 0.5918\n",
            "Epoch 184/200\n",
            "20/20 [==============================] - 0s 2ms/step - loss: 0.6893 - accuracy: 0.5440 - val_loss: 0.6821 - val_accuracy: 0.5918\n",
            "Epoch 185/200\n",
            "20/20 [==============================] - 0s 2ms/step - loss: 0.6893 - accuracy: 0.5440 - val_loss: 0.6821 - val_accuracy: 0.5918\n",
            "Epoch 186/200\n",
            "20/20 [==============================] - 0s 2ms/step - loss: 0.6893 - accuracy: 0.5440 - val_loss: 0.6822 - val_accuracy: 0.5918\n",
            "Epoch 187/200\n",
            "20/20 [==============================] - 0s 2ms/step - loss: 0.6893 - accuracy: 0.5440 - val_loss: 0.6822 - val_accuracy: 0.5918\n",
            "Epoch 188/200\n",
            "20/20 [==============================] - 0s 2ms/step - loss: 0.6893 - accuracy: 0.5440 - val_loss: 0.6822 - val_accuracy: 0.5918\n",
            "Epoch 189/200\n",
            "20/20 [==============================] - 0s 2ms/step - loss: 0.6893 - accuracy: 0.5440 - val_loss: 0.6822 - val_accuracy: 0.5918\n",
            "Epoch 190/200\n",
            "20/20 [==============================] - 0s 2ms/step - loss: 0.6893 - accuracy: 0.5440 - val_loss: 0.6822 - val_accuracy: 0.5918\n",
            "Epoch 191/200\n",
            "20/20 [==============================] - 0s 2ms/step - loss: 0.6893 - accuracy: 0.5440 - val_loss: 0.6822 - val_accuracy: 0.5918\n",
            "Epoch 192/200\n",
            "20/20 [==============================] - 0s 2ms/step - loss: 0.6893 - accuracy: 0.5440 - val_loss: 0.6822 - val_accuracy: 0.5918\n",
            "Epoch 193/200\n",
            "20/20 [==============================] - 0s 2ms/step - loss: 0.6893 - accuracy: 0.5440 - val_loss: 0.6822 - val_accuracy: 0.5918\n",
            "Epoch 194/200\n",
            "20/20 [==============================] - 0s 2ms/step - loss: 0.6893 - accuracy: 0.5440 - val_loss: 0.6821 - val_accuracy: 0.5918\n",
            "Epoch 195/200\n",
            "20/20 [==============================] - 0s 2ms/step - loss: 0.6893 - accuracy: 0.5440 - val_loss: 0.6822 - val_accuracy: 0.5918\n",
            "Epoch 196/200\n",
            "20/20 [==============================] - 0s 2ms/step - loss: 0.6894 - accuracy: 0.5440 - val_loss: 0.6822 - val_accuracy: 0.5918\n",
            "Epoch 197/200\n",
            "20/20 [==============================] - 0s 2ms/step - loss: 0.6893 - accuracy: 0.5440 - val_loss: 0.6821 - val_accuracy: 0.5918\n",
            "Epoch 198/200\n",
            "20/20 [==============================] - 0s 2ms/step - loss: 0.6893 - accuracy: 0.5440 - val_loss: 0.6821 - val_accuracy: 0.5918\n",
            "Epoch 199/200\n",
            "20/20 [==============================] - 0s 2ms/step - loss: 0.6893 - accuracy: 0.5440 - val_loss: 0.6822 - val_accuracy: 0.5918\n",
            "Epoch 200/200\n",
            "20/20 [==============================] - 0s 2ms/step - loss: 0.6893 - accuracy: 0.5440 - val_loss: 0.6822 - val_accuracy: 0.5918\n"
          ],
          "name": "stdout"
        }
      ]
    },
    {
      "cell_type": "code",
      "metadata": {
        "id": "bShqbnAoHpQS",
        "colab_type": "code",
        "colab": {
          "base_uri": "https://localhost:8080/",
          "height": 72
        },
        "outputId": "29aab0ec-29a8-4fa1-b319-72daa20ebfa2"
      },
      "source": [
        "model.evaluate(x_test,y_test)"
      ],
      "execution_count": 14,
      "outputs": [
        {
          "output_type": "stream",
          "text": [
            "2/2 [==============================] - 0s 1ms/step - loss: 0.6882 - accuracy: 0.5410\n"
          ],
          "name": "stdout"
        },
        {
          "output_type": "execute_result",
          "data": {
            "text/plain": [
              "[0.6881725788116455, 0.5409836173057556]"
            ]
          },
          "metadata": {
            "tags": []
          },
          "execution_count": 14
        }
      ]
    }
  ]
}